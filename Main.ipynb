{
 "cells": [
  {
   "cell_type": "code",
   "execution_count": 49,
   "metadata": {},
   "outputs": [
    {
     "data": {
      "text/plain": [
       "<module 'dic' from 'c:\\\\Users\\\\mathe\\\\OneDrive\\\\Documentos\\\\Códigos\\\\RECONHECIMENTO-DE-PADROES-COM-INTELIGENCIA-ARTIFICIAL-MICRODADOS-ENEM\\\\dic.py'>"
      ]
     },
     "execution_count": 49,
     "metadata": {},
     "output_type": "execute_result"
    }
   ],
   "source": [
    "from pyspark.sql import SparkSession\n",
    "from pyspark.sql.functions import when, col\n",
    "from ydata_profiling import ProfileReport\n",
    "import numpy as np\n",
    "import pandas as pd\n",
    "import dic_moledo\n",
    "from pyspark.sql.functions import col, create_map, lit\n",
    "from itertools import chain\n",
    "import importlib\n",
    "\n",
    "importlib.reload(dic_moledo)"
   ]
  },
  {
   "cell_type": "code",
   "execution_count": 50,
   "metadata": {},
   "outputs": [
    {
     "name": "stdout",
     "output_type": "stream",
     "text": [
      "{'spark.driver.extraJavaOptions': '-Djava.net.preferIPv6Addresses=false -XX:+IgnoreUnrecognizedVMOptions --add-opens=java.base/java.lang=ALL-UNNAMED --add-opens=java.base/java.lang.invoke=ALL-UNNAMED --add-opens=java.base/java.lang.reflect=ALL-UNNAMED --add-opens=java.base/java.io=ALL-UNNAMED --add-opens=java.base/java.net=ALL-UNNAMED --add-opens=java.base/java.nio=ALL-UNNAMED --add-opens=java.base/java.util=ALL-UNNAMED --add-opens=java.base/java.util.concurrent=ALL-UNNAMED --add-opens=java.base/java.util.concurrent.atomic=ALL-UNNAMED --add-opens=java.base/jdk.internal.ref=ALL-UNNAMED --add-opens=java.base/sun.nio.ch=ALL-UNNAMED --add-opens=java.base/sun.nio.cs=ALL-UNNAMED --add-opens=java.base/sun.security.action=ALL-UNNAMED --add-opens=java.base/sun.util.calendar=ALL-UNNAMED --add-opens=java.security.jgss/sun.security.krb5=ALL-UNNAMED -Djdk.reflect.useDirectMethodHandle=false', 'spark.driver.memory': '4g', 'spark.executor.memory': '4g', 'spark.driver.host': 'DESKTOP-D8Q42PQ', 'spark.app.id': 'local-1713146400181', 'spark.app.startTime': '1713146399368', 'spark.executor.id': 'driver', 'spark.app.submitTime': '1713146399245', 'spark.app.name': 'Minha Aplicação', 'spark.driver.port': '62957', 'spark.rdd.compress': 'True', 'spark.executor.extraJavaOptions': '-Djava.net.preferIPv6Addresses=false -XX:+IgnoreUnrecognizedVMOptions --add-opens=java.base/java.lang=ALL-UNNAMED --add-opens=java.base/java.lang.invoke=ALL-UNNAMED --add-opens=java.base/java.lang.reflect=ALL-UNNAMED --add-opens=java.base/java.io=ALL-UNNAMED --add-opens=java.base/java.net=ALL-UNNAMED --add-opens=java.base/java.nio=ALL-UNNAMED --add-opens=java.base/java.util=ALL-UNNAMED --add-opens=java.base/java.util.concurrent=ALL-UNNAMED --add-opens=java.base/java.util.concurrent.atomic=ALL-UNNAMED --add-opens=java.base/jdk.internal.ref=ALL-UNNAMED --add-opens=java.base/sun.nio.ch=ALL-UNNAMED --add-opens=java.base/sun.nio.cs=ALL-UNNAMED --add-opens=java.base/sun.security.action=ALL-UNNAMED --add-opens=java.base/sun.util.calendar=ALL-UNNAMED --add-opens=java.security.jgss/sun.security.krb5=ALL-UNNAMED -Djdk.reflect.useDirectMethodHandle=false', 'spark.serializer.objectStreamReset': '100', 'spark.driver.maxResultSize': '2g', 'spark.sql.warehouse.dir': 'file:/C:/Users/mathe/OneDrive/Documentos/Códigos/RECONHECIMENTO-DE-PADROES-COM-INTELIGENCIA-ARTIFICIAL-MICRODADOS-ENEM/spark-warehouse', 'spark.master': 'local[*]', 'spark.submit.pyFiles': '', 'spark.submit.deployMode': 'client', 'spark.ui.showConsoleProgress': 'true', 'spark.executor.memoryOverhead': '1g'}\n"
     ]
    }
   ],
   "source": [
    "# Configura a SparkSession\n",
    "spark = SparkSession.builder \\\n",
    "    .appName(\"Minha Aplicação\") \\\n",
    "    .config(\"spark.driver.memory\", \"4g\") \\\n",
    "    .config(\"spark.executor.memory\", \"4g\") \\\n",
    "    .config(\"spark.driver.maxResultSize\", \"2g\") \\\n",
    "    .config(\"spark.executor.memoryOverhead\", \"1g\") \\\n",
    "    .getOrCreate()\n",
    "\n",
    "# Agora você pode verificar todas as configurações atuais\n",
    "conf = spark.sparkContext.getConf()\n",
    "print({item[0]: item[1] for item in conf.getAll()})\n",
    "\n"
   ]
  },
  {
   "cell_type": "code",
   "execution_count": 51,
   "metadata": {},
   "outputs": [],
   "source": [
    "# Lendo um arquivo CSV\n",
    "df = spark.read.csv(\"MICRODADOS_ENEM_2022.csv\", header=True, sep=\";\")"
   ]
  },
  {
   "cell_type": "code",
   "execution_count": 52,
   "metadata": {},
   "outputs": [
    {
     "name": "stdout",
     "output_type": "stream",
     "text": [
      "+---------------+-----------+----------------+---------------+---------------+---------+------------+-----------+-----------+--------------+--------------+--------------+--------------+----------+----------+----------+----------+---------+-----------------+---------------+----+----+----+----+----+----+\n",
      "|TP_FAIXA_ETARIA|TP_COR_RACA|TP_NACIONALIDADE|TP_ST_CONCLUSAO|TP_ANO_CONCLUIU|TP_ESCOLA|IN_TREINEIRO|CO_UF_PROVA|SG_UF_PROVA|TP_PRESENCA_CN|TP_PRESENCA_CH|TP_PRESENCA_LC|TP_PRESENCA_MT|NU_NOTA_CN|NU_NOTA_CH|NU_NOTA_LC|NU_NOTA_MT|TP_LINGUA|TP_STATUS_REDACAO|NU_NOTA_REDACAO|Q001|Q002|Q003|Q004|Q006|Q024|\n",
      "+---------------+-----------+----------------+---------------+---------------+---------+------------+-----------+-----------+--------------+--------------+--------------+--------------+----------+----------+----------+----------+---------+-----------------+---------------+----+----+----+----+----+----+\n",
      "|             14|          2|               1|              1|              2|        1|           0|         53|         DF|             0|             0|             0|             0|      NULL|      NULL|      NULL|      NULL|        0|             NULL|           NULL|   A|   A|   A|   B|   B|   A|\n",
      "|             14|          1|               1|              1|             16|        1|           0|         53|         DF|             0|             0|             0|             0|      NULL|      NULL|      NULL|      NULL|        0|             NULL|           NULL|   D|   D|   E|   E|   Q|   E|\n",
      "|              5|          2|               1|              1|              2|        1|           0|         29|         BA|             1|             1|             1|             1|     421.1|       546|     498.8|     565.3|        1|                1|            760|   E|   F|   A|   D|   B|   A|\n",
      "|              6|          3|               1|              1|              2|        1|           0|         32|         ES|             1|             1|             1|             1|     490.7|     388.6|     357.8|       416|        1|                1|            320|   C|   A|   A|   B|   A|   B|\n",
      "|              4|          3|               1|              1|              1|        1|           0|         15|         PA|             0|             0|             0|             0|      NULL|      NULL|      NULL|      NULL|        0|             NULL|           NULL|   D|   B|   A|   B|   B|   A|\n",
      "|              5|          3|               1|              1|              2|        1|           0|         33|         RJ|             0|             0|             0|             0|      NULL|      NULL|      NULL|      NULL|        1|             NULL|           NULL|   E|   C|   B|   B|   C|   A|\n",
      "|              4|          2|               1|              1|              2|        1|           0|         26|         PE|             0|             0|             0|             0|      NULL|      NULL|      NULL|      NULL|        0|             NULL|           NULL|   B|   B|   B|   B|   B|   A|\n",
      "|              6|          2|               1|              1|              0|        1|           0|         33|         RJ|             1|             1|             1|             1|     398.1|     427.3|     400.2|     404.9|        1|                1|            440|   E|   E|   B|   B|   B|   A|\n",
      "|              8|          3|               1|              1|              0|        1|           0|         29|         BA|             0|             0|             0|             0|      NULL|      NULL|      NULL|      NULL|        1|             NULL|           NULL|   A|   D|   A|   A|   B|   A|\n",
      "|              4|          3|               1|              1|              1|        1|           0|         26|         PE|             1|             1|             1|             1|     467.5|       461|     466.7|     435.3|        1|                1|            360|   E|   E|   B|   B|   B|   A|\n",
      "|              4|          3|               1|              1|              2|        1|           0|         25|         PB|             0|             0|             0|             0|      NULL|      NULL|      NULL|      NULL|        1|             NULL|           NULL|   E|   B|   A|   A|   A|   A|\n",
      "|              2|          1|               1|              2|              0|        3|           0|         28|         SE|             1|             1|             1|             1|     458.7|     539.8|     488.2|     456.8|        1|                1|            940|   E|   E|   B|   A|   B|   A|\n",
      "|              4|          2|               1|              1|              1|        1|           0|         29|         BA|             0|             0|             0|             0|      NULL|      NULL|      NULL|      NULL|        1|             NULL|           NULL|   D|   B|   F|   A|   B|   B|\n",
      "|              6|          3|               1|              1|              0|        1|           0|         35|         SP|             0|             0|             0|             0|      NULL|      NULL|      NULL|      NULL|        1|             NULL|           NULL|   C|   E|   C|   D|   C|   A|\n",
      "|              7|          2|               2|              1|              3|        1|           0|         51|         MT|             0|             0|             0|             0|      NULL|      NULL|      NULL|      NULL|        1|             NULL|           NULL|   E|   E|   B|   B|   C|   B|\n",
      "|              8|          3|               1|              2|              0|        2|           0|         28|         SE|             0|             0|             0|             0|      NULL|      NULL|      NULL|      NULL|        1|             NULL|           NULL|   B|   C|   B|   B|   B|   A|\n",
      "|              5|          2|               1|              1|              0|        1|           0|         29|         BA|             0|             0|             0|             0|      NULL|      NULL|      NULL|      NULL|        0|             NULL|           NULL|   A|   D|   B|   B|   B|   A|\n",
      "|              2|          3|               1|              3|              0|        1|           1|         35|         SP|             1|             1|             1|             1|     396.8|     528.7|     551.4|       536|        0|                1|            640|   G|   F|   F|   F|   B|   B|\n",
      "|              8|          2|               1|              1|              5|        1|           0|         31|         MG|             1|             1|             1|             1|     481.4|     603.6|       589|       695|        1|                1|            860|   B|   F|   A|   D|   B|   A|\n",
      "|              2|          1|               1|              3|              0|        1|           1|         33|         RJ|             0|             0|             0|             0|      NULL|      NULL|      NULL|      NULL|        0|             NULL|           NULL|   D|   B|   F|   D|   D|   A|\n",
      "+---------------+-----------+----------------+---------------+---------------+---------+------------+-----------+-----------+--------------+--------------+--------------+--------------+----------+----------+----------+----------+---------+-----------------+---------------+----+----+----+----+----+----+\n",
      "only showing top 20 rows\n",
      "\n"
     ]
    }
   ],
   "source": [
    "colunas_descartadas = ['NU_INSCRICAO', 'NU_ANO', 'TP_ENSINO','CO_MUNICIPIO_ESC', 'NO_MUNICIPIO_ESC', 'CO_UF_ESC', 'SG_UF_ESC', 'TP_DEPENDENCIA_ADM_ESC', 'TP_LOCALIZACAO_ESC', \n",
    "                       'TP_SIT_FUNC_ESC', 'CO_MUNICIPIO_PROVA', 'NO_MUNICIPIO_PROVA', 'CO_PROVA_CN', 'CO_PROVA_CH', 'CO_PROVA_LC', 'CO_PROVA_MT','TX_RESPOSTAS_CN', 'TX_RESPOSTAS_CH', \n",
    "                       'TX_RESPOSTAS_LC', 'TX_RESPOSTAS_MT', 'TX_GABARITO_CN', 'TX_GABARITO_CH', 'TX_GABARITO_LC', 'TX_GABARITO_MT', 'NU_NOTA_COMP1', \n",
    "                       'NU_NOTA_COMP2', 'NU_NOTA_COMP3', 'NU_NOTA_COMP4', 'NU_NOTA_COMP5','TP_SEXO','TP_ESTADO_CIVIL','Q011','Q005','Q007','Q008','Q009','Q010','Q012','Q013','Q015',\n",
    "                       'Q016','Q017','Q018','Q019','Q020','Q021','Q023','Q014','Q022','Q025','TP_ST_CONCLUSAO','TP_FAIXA_ETARIA','IN_TREINEIRO']\n",
    "\n",
    "# Descartando colunas\n",
    "df = df.drop(*colunas_descartadas)\n",
    "\n",
    "df.show()"
   ]
  },
  {
   "cell_type": "code",
   "execution_count": 74,
   "metadata": {},
   "outputs": [
    {
     "ename": "AttributeError",
     "evalue": "'DataFrame' object has no attribute 'TP_PRESENCA_CN'",
     "output_type": "error",
     "traceback": [
      "\u001b[1;31m---------------------------------------------------------------------------\u001b[0m",
      "\u001b[1;31mAttributeError\u001b[0m                            Traceback (most recent call last)",
      "Cell \u001b[1;32mIn[74], line 2\u001b[0m\n\u001b[0;32m      1\u001b[0m \u001b[38;5;66;03m# Descartando linhas que contem valores diferentes de 1 em TP_PRESENCA_CN\u001b[39;00m\n\u001b[1;32m----> 2\u001b[0m df \u001b[38;5;241m=\u001b[39m df\u001b[38;5;241m.\u001b[39mfilter(\u001b[43mdf\u001b[49m\u001b[38;5;241;43m.\u001b[39;49m\u001b[43mTP_PRESENCA_CN\u001b[49m \u001b[38;5;241m==\u001b[39m \u001b[38;5;241m1\u001b[39m)\n\u001b[0;32m      3\u001b[0m df \u001b[38;5;241m=\u001b[39m df\u001b[38;5;241m.\u001b[39mfilter(df\u001b[38;5;241m.\u001b[39mTP_PRESENCA_CH \u001b[38;5;241m==\u001b[39m \u001b[38;5;241m1\u001b[39m)\n\u001b[0;32m      4\u001b[0m df \u001b[38;5;241m=\u001b[39m df\u001b[38;5;241m.\u001b[39mfilter(df\u001b[38;5;241m.\u001b[39mTP_PRESENCA_LC \u001b[38;5;241m==\u001b[39m \u001b[38;5;241m1\u001b[39m)\n",
      "File \u001b[1;32m~\\AppData\\Local\\Packages\\PythonSoftwareFoundation.Python.3.10_qbz5n2kfra8p0\\LocalCache\\local-packages\\Python310\\site-packages\\pyspark\\sql\\dataframe.py:3127\u001b[0m, in \u001b[0;36mDataFrame.__getattr__\u001b[1;34m(self, name)\u001b[0m\n\u001b[0;32m   3094\u001b[0m \u001b[38;5;250m\u001b[39m\u001b[38;5;124;03m\"\"\"Returns the :class:`Column` denoted by ``name``.\u001b[39;00m\n\u001b[0;32m   3095\u001b[0m \n\u001b[0;32m   3096\u001b[0m \u001b[38;5;124;03m.. versionadded:: 1.3.0\u001b[39;00m\n\u001b[1;32m   (...)\u001b[0m\n\u001b[0;32m   3124\u001b[0m \u001b[38;5;124;03m+---+\u001b[39;00m\n\u001b[0;32m   3125\u001b[0m \u001b[38;5;124;03m\"\"\"\u001b[39;00m\n\u001b[0;32m   3126\u001b[0m \u001b[38;5;28;01mif\u001b[39;00m name \u001b[38;5;129;01mnot\u001b[39;00m \u001b[38;5;129;01min\u001b[39;00m \u001b[38;5;28mself\u001b[39m\u001b[38;5;241m.\u001b[39mcolumns:\n\u001b[1;32m-> 3127\u001b[0m     \u001b[38;5;28;01mraise\u001b[39;00m \u001b[38;5;167;01mAttributeError\u001b[39;00m(\n\u001b[0;32m   3128\u001b[0m         \u001b[38;5;124m\"\u001b[39m\u001b[38;5;124m'\u001b[39m\u001b[38;5;132;01m%s\u001b[39;00m\u001b[38;5;124m'\u001b[39m\u001b[38;5;124m object has no attribute \u001b[39m\u001b[38;5;124m'\u001b[39m\u001b[38;5;132;01m%s\u001b[39;00m\u001b[38;5;124m'\u001b[39m\u001b[38;5;124m\"\u001b[39m \u001b[38;5;241m%\u001b[39m (\u001b[38;5;28mself\u001b[39m\u001b[38;5;241m.\u001b[39m\u001b[38;5;18m__class__\u001b[39m\u001b[38;5;241m.\u001b[39m\u001b[38;5;18m__name__\u001b[39m, name)\n\u001b[0;32m   3129\u001b[0m     )\n\u001b[0;32m   3130\u001b[0m jc \u001b[38;5;241m=\u001b[39m \u001b[38;5;28mself\u001b[39m\u001b[38;5;241m.\u001b[39m_jdf\u001b[38;5;241m.\u001b[39mapply(name)\n\u001b[0;32m   3131\u001b[0m \u001b[38;5;28;01mreturn\u001b[39;00m Column(jc)\n",
      "\u001b[1;31mAttributeError\u001b[0m: 'DataFrame' object has no attribute 'TP_PRESENCA_CN'"
     ]
    }
   ],
   "source": [
    "# Descartando linhas que contem valores diferentes de 1 em TP_PRESENCA_CN\n",
    "df = df.filter(df.TP_PRESENCA_CN == 1)\n",
    "df = df.filter(df.TP_PRESENCA_CH == 1)\n",
    "df = df.filter(df.TP_PRESENCA_LC == 1)\n",
    "df = df.filter(df.TP_PRESENCA_MT == 1)\n",
    "\n",
    "df.count()\n",
    "\n",
    "# Descartando colunas que contem valores H na coluna Q001 e Q002\n",
    "df = df.filter(df.Q001 != 'H')\n",
    "df = df.filter(df.Q002 != 'H')\n",
    "\n",
    "df.count()"
   ]
  },
  {
   "cell_type": "code",
   "execution_count": 54,
   "metadata": {},
   "outputs": [
    {
     "name": "stdout",
     "output_type": "stream",
     "text": [
      "+---------------+-----------+----------------+---------------+---------------+---------+------------+-----------+-----------+--------------+--------------+--------------+--------------+---------+-----------------+---------------+----+----+----+----+----+----+------------------+\n",
      "|TP_FAIXA_ETARIA|TP_COR_RACA|TP_NACIONALIDADE|TP_ST_CONCLUSAO|TP_ANO_CONCLUIU|TP_ESCOLA|IN_TREINEIRO|CO_UF_PROVA|SG_UF_PROVA|TP_PRESENCA_CN|TP_PRESENCA_CH|TP_PRESENCA_LC|TP_PRESENCA_MT|TP_LINGUA|TP_STATUS_REDACAO|NU_NOTA_REDACAO|Q001|Q002|Q003|Q004|Q006|Q024|     NU_NOTA_MEDIA|\n",
      "+---------------+-----------+----------------+---------------+---------------+---------+------------+-----------+-----------+--------------+--------------+--------------+--------------+---------+-----------------+---------------+----+----+----+----+----+----+------------------+\n",
      "|              5|          2|               1|              1|              2|        1|           0|         29|         BA|             1|             1|             1|             1|        1|                1|            760|   E|   F|   A|   D|   B|   A|            558.24|\n",
      "|              6|          3|               1|              1|              2|        1|           0|         32|         ES|             1|             1|             1|             1|        1|                1|            320|   C|   A|   A|   B|   A|   B|            394.62|\n",
      "|              6|          2|               1|              1|              0|        1|           0|         33|         RJ|             1|             1|             1|             1|        1|                1|            440|   E|   E|   B|   B|   B|   A|             414.1|\n",
      "|              4|          3|               1|              1|              1|        1|           0|         26|         PE|             1|             1|             1|             1|        1|                1|            360|   E|   E|   B|   B|   B|   A|             438.1|\n",
      "|              2|          1|               1|              2|              0|        3|           0|         28|         SE|             1|             1|             1|             1|        1|                1|            940|   E|   E|   B|   A|   B|   A|             576.7|\n",
      "|              2|          3|               1|              3|              0|        1|           1|         35|         SP|             1|             1|             1|             1|        0|                1|            640|   G|   F|   F|   F|   B|   B|            530.58|\n",
      "|              8|          2|               1|              1|              5|        1|           0|         31|         MG|             1|             1|             1|             1|        1|                1|            860|   B|   F|   A|   D|   B|   A|             645.8|\n",
      "|              1|          3|               1|              3|              0|        1|           1|         26|         PE|             1|             1|             1|             1|        0|                4|              0|   H|   E|   C|   B|   B|   B|            378.74|\n",
      "|              4|          1|               1|              1|              0|        1|           0|         33|         RJ|             1|             1|             1|             1|        1|                1|            640|   B|   D|   D|   B|   B|   B|             500.4|\n",
      "|              4|          3|               1|              1|              1|        1|           0|         23|         CE|             1|             1|             1|             1|        1|                1|            760|   E|   E|   B|   B|   E|   A|            605.58|\n",
      "|              5|          3|               1|              1|              4|        1|           0|         29|         BA|             1|             1|             1|             1|        0|                1|            520|   C|   C|   A|   A|   C|   A|445.56000000000006|\n",
      "|              7|          2|               1|              1|              3|        1|           0|         29|         BA|             1|             1|             1|             1|        0|                1|            640|   E|   E|   D|   B|   B|   B| 548.5400000000001|\n",
      "|             11|          5|               1|              1|              8|        1|           0|         26|         PE|             1|             1|             1|             1|        0|                1|            300|   H|   H|   A|   A|   B|   A| 459.2200000000001|\n",
      "|              3|          3|               1|              1|              1|        1|           0|         13|         AM|             1|             1|             1|             1|        1|                1|            640|   E|   E|   B|   D|   G|   C|            630.62|\n",
      "|             12|          1|               1|              1|              0|        1|           0|         43|         RS|             1|             1|             1|             1|        0|                1|            360|   A|   F|   F|   E|   B|   A|            385.88|\n",
      "|             10|          1|               1|              1|              7|        1|           0|         43|         RS|             1|             1|             1|             1|        0|                1|            760|   E|   E|   B|   B|   E|   B|            562.68|\n",
      "|              7|          3|               1|              1|              0|        1|           0|         21|         MA|             1|             1|             1|             1|        0|                1|            540|   B|   D|   A|   A|   B|   A|             458.4|\n",
      "|             12|          3|               1|              1|             16|        1|           0|         13|         AM|             1|             1|             1|             1|        0|                1|            360|   E|   E|   D|   B|   D|   B|493.53999999999996|\n",
      "|             11|          3|               1|              1|             13|        1|           0|         26|         PE|             1|             1|             1|             1|        1|                1|            420|   B|   E|   C|   B|   D|   A|            415.84|\n",
      "|              3|          1|               1|              1|              1|        1|           0|         35|         SP|             1|             1|             1|             1|        1|                1|            460|   C|   E|   A|   B|   C|   B|             501.5|\n",
      "+---------------+-----------+----------------+---------------+---------------+---------+------------+-----------+-----------+--------------+--------------+--------------+--------------+---------+-----------------+---------------+----+----+----+----+----+----+------------------+\n",
      "only showing top 20 rows\n",
      "\n"
     ]
    }
   ],
   "source": [
    "# Criando a coluna media e descartando as colunas de notas\n",
    "df = df.withColumn('NU_NOTA_MEDIA', (col('NU_NOTA_CN') + col('NU_NOTA_CH') + col('NU_NOTA_LC') + col('NU_NOTA_MT') + col('NU_NOTA_REDACAO'))/5)\n",
    "df = df.drop('NU_NOTA_CN','NU_NOTA_CH','NU_NOTA_LC','NU_NOTA_MT')\n",
    "\n",
    "df.show()"
   ]
  },
  {
   "cell_type": "code",
   "execution_count": 55,
   "metadata": {},
   "outputs": [],
   "source": [
    "colunas_descartadas = ['TP_PRESENCA_CN','TP_PRESENCA_CH','TP_PRESENCA_LC','TP_PRESENCA_MT','TP_STATUS_REDACAO','SG_UF_PROVA','NU_NOTA_REDACAO','CO_UF_PROVA','TP_ANO_CONCLUIU','TP_NACIONALIDADE']\n",
    "\n",
    "# Descartando colunas\n",
    "df = df.drop(*colunas_descartadas)\n"
   ]
  },
  {
   "cell_type": "code",
   "execution_count": 56,
   "metadata": {},
   "outputs": [
    {
     "name": "stdout",
     "output_type": "stream",
     "text": [
      "{'A': 1, 'B': 2, 'C': 3, 'D': 4, 'E': 5, 'F': 6, 'G': 7, 'H': 8, 'I': 9, 'J': 10, 'K': 11, 'L': 12, 'M': 13, 'N': 14, 'O': 15, 'P': 16, 'Q': 17}\n"
     ]
    }
   ],
   "source": [
    "print(dic.q006_dict)"
   ]
  },
  {
   "cell_type": "code",
   "execution_count": 57,
   "metadata": {},
   "outputs": [],
   "source": [
    "# Colunas Q001 ate Q025\n",
    "colunas = ['Q001','Q002','Q003','Q004','Q006','Q024']\n",
    "\n",
    "\n",
    "for coluna in colunas:\n",
    "    # Pegando os valores correspondentes a cada letra no dicionario dic\n",
    "    nome_dict = coluna.lower() + '_dict'  # Constrói o nome do dicionário\n",
    "    if hasattr(dic_moledo, nome_dict):  # Verifica se o dicionário existe no módulo dicionario\n",
    "        mapeamento = getattr(dic_moledo, nome_dict)  # Obtém o dicionário\n",
    "        mapeamento_expr = create_map([lit(x) for x in chain(*mapeamento.items())])\n",
    "        df = df.withColumn(coluna, mapeamento_expr.getItem(col(coluna)))\n"
   ]
  },
  {
   "cell_type": "code",
   "execution_count": 58,
   "metadata": {},
   "outputs": [
    {
     "name": "stdout",
     "output_type": "stream",
     "text": [
      "+---------------+-----------+---------------+---------+------------+---------+----+----+----+----+----+----+------------------+\n",
      "|TP_FAIXA_ETARIA|TP_COR_RACA|TP_ST_CONCLUSAO|TP_ESCOLA|IN_TREINEIRO|TP_LINGUA|Q001|Q002|Q003|Q004|Q006|Q024|     NU_NOTA_MEDIA|\n",
      "+---------------+-----------+---------------+---------+------------+---------+----+----+----+----+----+----+------------------+\n",
      "|              5|          2|              1|        1|           0|        1|   5|   6|   1|   4|   2|   1|            558.24|\n",
      "|              6|          3|              1|        1|           0|        1|   3|   1|   1|   2|   1|   2|            394.62|\n",
      "|              6|          2|              1|        1|           0|        1|   5|   5|   2|   2|   2|   1|             414.1|\n",
      "|              4|          3|              1|        1|           0|        1|   5|   5|   2|   2|   2|   1|             438.1|\n",
      "|              2|          1|              2|        3|           0|        1|   5|   5|   2|   1|   2|   1|             576.7|\n",
      "|              2|          3|              3|        1|           1|        0|   7|   6|   6|   6|   2|   2|            530.58|\n",
      "|              8|          2|              1|        1|           0|        1|   2|   6|   1|   4|   2|   1|             645.8|\n",
      "|              1|          3|              3|        1|           1|        0|   8|   5|   3|   2|   2|   2|            378.74|\n",
      "|              4|          1|              1|        1|           0|        1|   2|   4|   4|   2|   2|   2|             500.4|\n",
      "|              4|          3|              1|        1|           0|        1|   5|   5|   2|   2|   5|   1|            605.58|\n",
      "|              5|          3|              1|        1|           0|        0|   3|   3|   1|   1|   3|   1|445.56000000000006|\n",
      "|              7|          2|              1|        1|           0|        0|   5|   5|   4|   2|   2|   2| 548.5400000000001|\n",
      "|             11|          5|              1|        1|           0|        0|   8|   8|   1|   1|   2|   1| 459.2200000000001|\n",
      "|              3|          3|              1|        1|           0|        1|   5|   5|   2|   4|   7|   3|            630.62|\n",
      "|             12|          1|              1|        1|           0|        0|   1|   6|   6|   5|   2|   1|            385.88|\n",
      "|             10|          1|              1|        1|           0|        0|   5|   5|   2|   2|   5|   2|            562.68|\n",
      "|              7|          3|              1|        1|           0|        0|   2|   4|   1|   1|   2|   1|             458.4|\n",
      "|             12|          3|              1|        1|           0|        0|   5|   5|   4|   2|   4|   2|493.53999999999996|\n",
      "|             11|          3|              1|        1|           0|        1|   2|   5|   3|   2|   4|   1|            415.84|\n",
      "|              3|          1|              1|        1|           0|        1|   3|   5|   1|   2|   3|   2|             501.5|\n",
      "+---------------+-----------+---------------+---------+------------+---------+----+----+----+----+----+----+------------------+\n",
      "only showing top 20 rows\n",
      "\n"
     ]
    }
   ],
   "source": [
    "df.show()"
   ]
  },
  {
   "cell_type": "code",
   "execution_count": 59,
   "metadata": {},
   "outputs": [],
   "source": [
    "# Alterando o tipo de dado de string para int \n",
    "df = df.withColumn(\"TP_FAIXA_ETARIA\", df[\"TP_FAIXA_ETARIA\"].cast(\"int\"))\n",
    "df = df.withColumn(\"TP_COR_RACA\", df[\"TP_COR_RACA\"].cast(\"int\"))\n",
    "df = df.withColumn(\"TP_ST_CONCLUSAO\", df[\"TP_ST_CONCLUSAO\"].cast(\"int\"))\n",
    "df = df.withColumn(\"TP_ESCOLA\", df[\"TP_ESCOLA\"].cast(\"int\"))\n",
    "df = df.withColumn(\"IN_TREINEIRO\", df[\"IN_TREINEIRO\"].cast(\"int\"))\n",
    "df = df.withColumn(\"TP_LINGUA\", df[\"TP_LINGUA\"].cast(\"int\"))"
   ]
  },
  {
   "cell_type": "code",
   "execution_count": 61,
   "metadata": {},
   "outputs": [
    {
     "name": "stderr",
     "output_type": "stream",
     "text": [
      "C:\\Users\\mathe\\AppData\\Local\\Packages\\PythonSoftwareFoundation.Python.3.10_qbz5n2kfra8p0\\LocalCache\\local-packages\\Python310\\site-packages\\pyspark\\sql\\pandas\\conversion.py:111: UserWarning: toPandas attempted Arrow optimization because 'spark.sql.execution.arrow.pyspark.enabled' is set to true; however, failed by the reason below:\n",
      "  PyArrow >= 4.0.0 must be installed; however, it was not found.\n",
      "Attempting non-optimization as 'spark.sql.execution.arrow.pyspark.fallback.enabled' is set to true.\n",
      "  warn(msg)\n"
     ]
    },
    {
     "data": {
      "text/plain": [
       "TP_FAIXA_ETARIA      int32\n",
       "TP_COR_RACA          int32\n",
       "TP_ST_CONCLUSAO      int32\n",
       "TP_ESCOLA            int32\n",
       "IN_TREINEIRO         int32\n",
       "TP_LINGUA            int32\n",
       "Q001                 int32\n",
       "Q002                 int32\n",
       "Q003                 int32\n",
       "Q004                 int32\n",
       "Q006                 int32\n",
       "Q024                 int32\n",
       "NU_NOTA_MEDIA      float64\n",
       "dtype: object"
      ]
     },
     "execution_count": 61,
     "metadata": {},
     "output_type": "execute_result"
    }
   ],
   "source": [
    "# Enable Arrow-based columnar data transfers\n",
    "spark.conf.set(\"spark.sql.execution.arrow.pyspark.enabled\", \"true\")\n",
    "\n",
    "# Convert the Spark DataFrame back to a pandas DataFrame using Arrow\n",
    "result_pdf = df.select(\"*\").toPandas()\n",
    "result_pdf.dtypes"
   ]
  },
  {
   "cell_type": "code",
   "execution_count": 62,
   "metadata": {},
   "outputs": [
    {
     "data": {
      "text/html": [
       "<div>\n",
       "<style scoped>\n",
       "    .dataframe tbody tr th:only-of-type {\n",
       "        vertical-align: middle;\n",
       "    }\n",
       "\n",
       "    .dataframe tbody tr th {\n",
       "        vertical-align: top;\n",
       "    }\n",
       "\n",
       "    .dataframe thead th {\n",
       "        text-align: right;\n",
       "    }\n",
       "</style>\n",
       "<table border=\"1\" class=\"dataframe\">\n",
       "  <thead>\n",
       "    <tr style=\"text-align: right;\">\n",
       "      <th></th>\n",
       "      <th>TP_FAIXA_ETARIA</th>\n",
       "      <th>TP_COR_RACA</th>\n",
       "      <th>TP_ST_CONCLUSAO</th>\n",
       "      <th>TP_ESCOLA</th>\n",
       "      <th>IN_TREINEIRO</th>\n",
       "      <th>TP_LINGUA</th>\n",
       "      <th>Q001</th>\n",
       "      <th>Q002</th>\n",
       "      <th>Q003</th>\n",
       "      <th>Q004</th>\n",
       "      <th>Q006</th>\n",
       "      <th>Q024</th>\n",
       "      <th>NU_NOTA_MEDIA</th>\n",
       "    </tr>\n",
       "  </thead>\n",
       "  <tbody>\n",
       "    <tr>\n",
       "      <th>0</th>\n",
       "      <td>5</td>\n",
       "      <td>2</td>\n",
       "      <td>1</td>\n",
       "      <td>1</td>\n",
       "      <td>0</td>\n",
       "      <td>1</td>\n",
       "      <td>5</td>\n",
       "      <td>6</td>\n",
       "      <td>1</td>\n",
       "      <td>4</td>\n",
       "      <td>2</td>\n",
       "      <td>1</td>\n",
       "      <td>558.24</td>\n",
       "    </tr>\n",
       "    <tr>\n",
       "      <th>1</th>\n",
       "      <td>6</td>\n",
       "      <td>3</td>\n",
       "      <td>1</td>\n",
       "      <td>1</td>\n",
       "      <td>0</td>\n",
       "      <td>1</td>\n",
       "      <td>3</td>\n",
       "      <td>1</td>\n",
       "      <td>1</td>\n",
       "      <td>2</td>\n",
       "      <td>1</td>\n",
       "      <td>2</td>\n",
       "      <td>394.62</td>\n",
       "    </tr>\n",
       "    <tr>\n",
       "      <th>2</th>\n",
       "      <td>6</td>\n",
       "      <td>2</td>\n",
       "      <td>1</td>\n",
       "      <td>1</td>\n",
       "      <td>0</td>\n",
       "      <td>1</td>\n",
       "      <td>5</td>\n",
       "      <td>5</td>\n",
       "      <td>2</td>\n",
       "      <td>2</td>\n",
       "      <td>2</td>\n",
       "      <td>1</td>\n",
       "      <td>414.10</td>\n",
       "    </tr>\n",
       "    <tr>\n",
       "      <th>3</th>\n",
       "      <td>4</td>\n",
       "      <td>3</td>\n",
       "      <td>1</td>\n",
       "      <td>1</td>\n",
       "      <td>0</td>\n",
       "      <td>1</td>\n",
       "      <td>5</td>\n",
       "      <td>5</td>\n",
       "      <td>2</td>\n",
       "      <td>2</td>\n",
       "      <td>2</td>\n",
       "      <td>1</td>\n",
       "      <td>438.10</td>\n",
       "    </tr>\n",
       "    <tr>\n",
       "      <th>4</th>\n",
       "      <td>2</td>\n",
       "      <td>1</td>\n",
       "      <td>2</td>\n",
       "      <td>3</td>\n",
       "      <td>0</td>\n",
       "      <td>1</td>\n",
       "      <td>5</td>\n",
       "      <td>5</td>\n",
       "      <td>2</td>\n",
       "      <td>1</td>\n",
       "      <td>2</td>\n",
       "      <td>1</td>\n",
       "      <td>576.70</td>\n",
       "    </tr>\n",
       "  </tbody>\n",
       "</table>\n",
       "</div>"
      ],
      "text/plain": [
       "   TP_FAIXA_ETARIA  TP_COR_RACA  TP_ST_CONCLUSAO  TP_ESCOLA  IN_TREINEIRO  \\\n",
       "0                5            2                1          1             0   \n",
       "1                6            3                1          1             0   \n",
       "2                6            2                1          1             0   \n",
       "3                4            3                1          1             0   \n",
       "4                2            1                2          3             0   \n",
       "\n",
       "   TP_LINGUA  Q001  Q002  Q003  Q004  Q006  Q024  NU_NOTA_MEDIA  \n",
       "0          1     5     6     1     4     2     1         558.24  \n",
       "1          1     3     1     1     2     1     2         394.62  \n",
       "2          1     5     5     2     2     2     1         414.10  \n",
       "3          1     5     5     2     2     2     1         438.10  \n",
       "4          1     5     5     2     1     2     1         576.70  "
      ]
     },
     "execution_count": 62,
     "metadata": {},
     "output_type": "execute_result"
    }
   ],
   "source": [
    "result_pdf = pd.get_dummies(result_pdf)\n",
    "result_pdf.head()"
   ]
  },
  {
   "cell_type": "code",
   "execution_count": 63,
   "metadata": {},
   "outputs": [
    {
     "name": "stderr",
     "output_type": "stream",
     "text": [
      "Summarize dataset: 100%|██████████| 86/86 [01:07<00:00,  1.28it/s, Completed]                               \n",
      "Generate report structure: 100%|██████████| 1/1 [00:02<00:00,  2.29s/it]\n",
      "Render HTML: 100%|██████████| 1/1 [00:01<00:00,  1.15s/it]\n",
      "Export report to file: 100%|██████████| 1/1 [00:00<00:00, 111.01it/s]\n"
     ]
    }
   ],
   "source": [
    "profile = ProfileReport(result_pdf, title=\"Pandas Profiling Report\")\n",
    "profile.to_file(\"output_q006_reload.html\")"
   ]
  },
  {
   "cell_type": "code",
   "execution_count": 66,
   "metadata": {},
   "outputs": [
    {
     "name": "stdout",
     "output_type": "stream",
     "text": [
      "+---------------+-----------+---------------+---------+------------+---------+----+----+----+----+----+----+------------------+\n",
      "|TP_FAIXA_ETARIA|TP_COR_RACA|TP_ST_CONCLUSAO|TP_ESCOLA|IN_TREINEIRO|TP_LINGUA|Q001|Q002|Q003|Q004|Q006|Q024|     NU_NOTA_MEDIA|\n",
      "+---------------+-----------+---------------+---------+------------+---------+----+----+----+----+----+----+------------------+\n",
      "|              5|          2|              1|        1|           0|        1|   5|   6|   1|   4|   2|   1|            558.24|\n",
      "|              6|          3|              1|        1|           0|        1|   3|   1|   1|   2|   1|   2|            394.62|\n",
      "|              6|          2|              1|        1|           0|        1|   5|   5|   2|   2|   2|   1|             414.1|\n",
      "|              4|          3|              1|        1|           0|        1|   5|   5|   2|   2|   2|   1|             438.1|\n",
      "|              2|          1|              2|        3|           0|        1|   5|   5|   2|   1|   2|   1|             576.7|\n",
      "|              2|          3|              3|        1|           1|        0|   7|   6|   6|   6|   2|   2|            530.58|\n",
      "|              8|          2|              1|        1|           0|        1|   2|   6|   1|   4|   2|   1|             645.8|\n",
      "|              1|          3|              3|        1|           1|        0|   8|   5|   3|   2|   2|   2|            378.74|\n",
      "|              4|          1|              1|        1|           0|        1|   2|   4|   4|   2|   2|   2|             500.4|\n",
      "|              4|          3|              1|        1|           0|        1|   5|   5|   2|   2|   5|   1|            605.58|\n",
      "|              5|          3|              1|        1|           0|        0|   3|   3|   1|   1|   3|   1|445.56000000000006|\n",
      "|              7|          2|              1|        1|           0|        0|   5|   5|   4|   2|   2|   2| 548.5400000000001|\n",
      "|             11|          5|              1|        1|           0|        0|   8|   8|   1|   1|   2|   1| 459.2200000000001|\n",
      "|              3|          3|              1|        1|           0|        1|   5|   5|   2|   4|   7|   3|            630.62|\n",
      "|             12|          1|              1|        1|           0|        0|   1|   6|   6|   5|   2|   1|            385.88|\n",
      "|             10|          1|              1|        1|           0|        0|   5|   5|   2|   2|   5|   2|            562.68|\n",
      "|              7|          3|              1|        1|           0|        0|   2|   4|   1|   1|   2|   1|             458.4|\n",
      "|             12|          3|              1|        1|           0|        0|   5|   5|   4|   2|   4|   2|493.53999999999996|\n",
      "|             11|          3|              1|        1|           0|        1|   2|   5|   3|   2|   4|   1|            415.84|\n",
      "|              3|          1|              1|        1|           0|        1|   3|   5|   1|   2|   3|   2|             501.5|\n",
      "+---------------+-----------+---------------+---------+------------+---------+----+----+----+----+----+----+------------------+\n",
      "only showing top 20 rows\n",
      "\n"
     ]
    }
   ],
   "source": [
    "df.show()\n"
   ]
  },
  {
   "cell_type": "code",
   "execution_count": 69,
   "metadata": {},
   "outputs": [
    {
     "name": "stdout",
     "output_type": "stream",
     "text": [
      "TP_FAIXA_ETARIA 0\n",
      "TP_COR_RACA 0\n",
      "TP_ST_CONCLUSAO 0\n",
      "TP_ESCOLA 0\n",
      "IN_TREINEIRO 0\n",
      "TP_LINGUA 0\n",
      "Q001 0\n",
      "Q002 0\n",
      "Q003 0\n",
      "Q004 0\n",
      "Q006 0\n",
      "Q024 0\n",
      "NU_NOTA_MEDIA 0\n"
     ]
    }
   ],
   "source": [
    "# Contando a quantidade de linhas valores nulos\n",
    "\n",
    "for coluna in df.columns:\n",
    "    print(coluna, df.filter(col(coluna).isNull()).count())"
   ]
  },
  {
   "cell_type": "code",
   "execution_count": 73,
   "metadata": {},
   "outputs": [
    {
     "name": "stdout",
     "output_type": "stream",
     "text": [
      "+----+--------+\n",
      "|Q001|count(1)|\n",
      "+----+--------+\n",
      "|   1|   75867|\n",
      "|   2|  350284|\n",
      "|   3|  291859|\n",
      "|   4|  259673|\n",
      "|   5|  720913|\n",
      "|   6|  250540|\n",
      "|   7|  193050|\n",
      "|   8|  202637|\n",
      "+----+--------+\n",
      "\n"
     ]
    }
   ],
   "source": [
    "df.createOrReplaceTempView(\"df\")\n",
    "\n",
    "df_consulta = spark.sql(\"SELECT Q001, COUNT(*) FROM df GROUP BY 1 ORDER BY 1\")\n",
    "df_consulta.show()"
   ]
  },
  {
   "cell_type": "code",
   "execution_count": 72,
   "metadata": {},
   "outputs": [
    {
     "name": "stdout",
     "output_type": "stream",
     "text": [
      "+----+--------+\n",
      "|Q002|count(1)|\n",
      "+----+--------+\n",
      "|   1|   46006|\n",
      "|   2|  238683|\n",
      "|   3|  232165|\n",
      "|   4|  262334|\n",
      "|   5|  851162|\n",
      "|   6|  329384|\n",
      "|   7|  322603|\n",
      "|   8|   62486|\n",
      "+----+--------+\n",
      "\n"
     ]
    }
   ],
   "source": [
    "df.createOrReplaceTempView(\"df\")\n",
    "\n",
    "df_consulta = spark.sql(\"SELECT Q002, COUNT(*) FROM df GROUP BY 1 ORDER BY 1\")\n",
    "df_consulta.show()"
   ]
  },
  {
   "cell_type": "code",
   "execution_count": 65,
   "metadata": {},
   "outputs": [
    {
     "ename": "AnalysisException",
     "evalue": "[UNRESOLVED_COLUMN.WITH_SUGGESTION] A column or function parameter with name `CO_UF_PROVA` cannot be resolved. Did you mean one of the following? [`TP_COR_RACA`, `TP_ESCOLA`, `Q001`, `Q002`, `Q003`].; line 1 pos 44;\n'Project ['AVG('NU_NOTA_MEDIA) AS SUL#3571]\n+- 'Filter 'CO_UF_PROVA IN (41,42,43)\n   +- SubqueryAlias df\n      +- View (`df`, [TP_FAIXA_ETARIA#3359,TP_COR_RACA#3373,TP_ST_CONCLUSAO#3387,TP_ESCOLA#3401,IN_TREINEIRO#3415,TP_LINGUA#3429,Q001#3201,Q002#3215,Q003#3229,Q004#3243,Q006#3257,Q024#3271,NU_NOTA_MEDIA#3018])\n         +- Project [TP_FAIXA_ETARIA#3359, TP_COR_RACA#3373, TP_ST_CONCLUSAO#3387, TP_ESCOLA#3401, IN_TREINEIRO#3415, cast(TP_LINGUA#2712 as int) AS TP_LINGUA#3429, Q001#3201, Q002#3215, Q003#3229, Q004#3243, Q006#3257, Q024#3271, NU_NOTA_MEDIA#3018]\n            +- Project [TP_FAIXA_ETARIA#3359, TP_COR_RACA#3373, TP_ST_CONCLUSAO#3387, TP_ESCOLA#3401, cast(IN_TREINEIRO#2684 as int) AS IN_TREINEIRO#3415, TP_LINGUA#2712, Q001#3201, Q002#3215, Q003#3229, Q004#3243, Q006#3257, Q024#3271, NU_NOTA_MEDIA#3018]\n               +- Project [TP_FAIXA_ETARIA#3359, TP_COR_RACA#3373, TP_ST_CONCLUSAO#3387, cast(TP_ESCOLA#2682 as int) AS TP_ESCOLA#3401, IN_TREINEIRO#2684, TP_LINGUA#2712, Q001#3201, Q002#3215, Q003#3229, Q004#3243, Q006#3257, Q024#3271, NU_NOTA_MEDIA#3018]\n                  +- Project [TP_FAIXA_ETARIA#3359, TP_COR_RACA#3373, cast(TP_ST_CONCLUSAO#2680 as int) AS TP_ST_CONCLUSAO#3387, TP_ESCOLA#2682, IN_TREINEIRO#2684, TP_LINGUA#2712, Q001#3201, Q002#3215, Q003#3229, Q004#3243, Q006#3257, Q024#3271, NU_NOTA_MEDIA#3018]\n                     +- Project [TP_FAIXA_ETARIA#3359, cast(TP_COR_RACA#2678 as int) AS TP_COR_RACA#3373, TP_ST_CONCLUSAO#2680, TP_ESCOLA#2682, IN_TREINEIRO#2684, TP_LINGUA#2712, Q001#3201, Q002#3215, Q003#3229, Q004#3243, Q006#3257, Q024#3271, NU_NOTA_MEDIA#3018]\n                        +- Project [cast(TP_FAIXA_ETARIA#2675 as int) AS TP_FAIXA_ETARIA#3359, TP_COR_RACA#2678, TP_ST_CONCLUSAO#2680, TP_ESCOLA#2682, IN_TREINEIRO#2684, TP_LINGUA#2712, Q001#3201, Q002#3215, Q003#3229, Q004#3243, Q006#3257, Q024#3271, NU_NOTA_MEDIA#3018]\n                           +- Project [TP_FAIXA_ETARIA#2675, TP_COR_RACA#2678, TP_ST_CONCLUSAO#2680, TP_ESCOLA#2682, IN_TREINEIRO#2684, TP_LINGUA#2712, Q001#3201, Q002#3215, Q003#3229, Q004#3243, Q006#3257, map(A, 1, B, 2, C, 3, D, 3, E, 3)[Q024#2747] AS Q024#3271, NU_NOTA_MEDIA#3018]\n                              +- Project [TP_FAIXA_ETARIA#2675, TP_COR_RACA#2678, TP_ST_CONCLUSAO#2680, TP_ESCOLA#2682, IN_TREINEIRO#2684, TP_LINGUA#2712, Q001#3201, Q002#3215, Q003#3229, Q004#3243, map(A, 1, B, 2, C, 3, D, 4, E, 5, F, 6, G, 7, H, 8, I, 9, J, 10, K, 11, L, 12, ... 10 more fields)[Q006#2729] AS Q006#3257, Q024#2747, NU_NOTA_MEDIA#3018]\n                                 +- Project [TP_FAIXA_ETARIA#2675, TP_COR_RACA#2678, TP_ST_CONCLUSAO#2680, TP_ESCOLA#2682, IN_TREINEIRO#2684, TP_LINGUA#2712, Q001#3201, Q002#3215, Q003#3229, map(A, 1, B, 2, C, 3, D, 4, E, 5, F, 6)[Q004#2727] AS Q004#3243, Q006#2729, Q024#2747, NU_NOTA_MEDIA#3018]\n                                    +- Project [TP_FAIXA_ETARIA#2675, TP_COR_RACA#2678, TP_ST_CONCLUSAO#2680, TP_ESCOLA#2682, IN_TREINEIRO#2684, TP_LINGUA#2712, Q001#3201, Q002#3215, map(A, 1, B, 2, C, 3, D, 4, E, 5, F, 6)[Q003#2726] AS Q003#3229, Q004#2727, Q006#2729, Q024#2747, NU_NOTA_MEDIA#3018]\n                                       +- Project [TP_FAIXA_ETARIA#2675, TP_COR_RACA#2678, TP_ST_CONCLUSAO#2680, TP_ESCOLA#2682, IN_TREINEIRO#2684, TP_LINGUA#2712, Q001#3201, map(A, 1, B, 2, C, 3, D, 4, E, 5, F, 6, G, 7, H, 8)[Q002#2725] AS Q002#3215, Q003#2726, Q004#2727, Q006#2729, Q024#2747, NU_NOTA_MEDIA#3018]\n                                          +- Project [TP_FAIXA_ETARIA#2675, TP_COR_RACA#2678, TP_ST_CONCLUSAO#2680, TP_ESCOLA#2682, IN_TREINEIRO#2684, TP_LINGUA#2712, map(A, 1, B, 2, C, 3, D, 4, E, 5, F, 6, G, 7, H, 8)[Q001#2724] AS Q001#3201, Q002#2725, Q003#2726, Q004#2727, Q006#2729, Q024#2747, NU_NOTA_MEDIA#3018]\n                                             +- Project [TP_FAIXA_ETARIA#2675, TP_COR_RACA#2678, TP_ST_CONCLUSAO#2680, TP_ESCOLA#2682, IN_TREINEIRO#2684, TP_LINGUA#2712, Q001#2724, Q002#2725, Q003#2726, Q004#2727, Q006#2729, Q024#2747, NU_NOTA_MEDIA#3018]\n                                                +- Project [TP_FAIXA_ETARIA#2675, TP_COR_RACA#2678, TP_NACIONALIDADE#2679, TP_ST_CONCLUSAO#2680, TP_ANO_CONCLUIU#2681, TP_ESCOLA#2682, IN_TREINEIRO#2684, CO_UF_PROVA#2694, SG_UF_PROVA#2695, TP_PRESENCA_CN#2696, TP_PRESENCA_CH#2697, TP_PRESENCA_LC#2698, TP_PRESENCA_MT#2699, TP_LINGUA#2712, TP_STATUS_REDACAO#2717, NU_NOTA_REDACAO#2723, Q001#2724, Q002#2725, Q003#2726, Q004#2727, Q006#2729, Q024#2747, NU_NOTA_MEDIA#3018]\n                                                   +- Project [TP_FAIXA_ETARIA#2675, TP_COR_RACA#2678, TP_NACIONALIDADE#2679, TP_ST_CONCLUSAO#2680, TP_ANO_CONCLUIU#2681, TP_ESCOLA#2682, IN_TREINEIRO#2684, CO_UF_PROVA#2694, SG_UF_PROVA#2695, TP_PRESENCA_CN#2696, TP_PRESENCA_CH#2697, TP_PRESENCA_LC#2698, TP_PRESENCA_MT#2699, NU_NOTA_CN#2704, NU_NOTA_CH#2705, NU_NOTA_LC#2706, NU_NOTA_MT#2707, TP_LINGUA#2712, TP_STATUS_REDACAO#2717, NU_NOTA_REDACAO#2723, Q001#2724, Q002#2725, Q003#2726, Q004#2727, ... 3 more fields]\n                                                      +- Filter (cast(TP_PRESENCA_MT#2699 as int) = 1)\n                                                         +- Filter (cast(TP_PRESENCA_LC#2698 as int) = 1)\n                                                            +- Filter (cast(TP_PRESENCA_CH#2697 as int) = 1)\n                                                               +- Filter (cast(TP_PRESENCA_CN#2696 as int) = 1)\n                                                                  +- Project [TP_FAIXA_ETARIA#2675, TP_COR_RACA#2678, TP_NACIONALIDADE#2679, TP_ST_CONCLUSAO#2680, TP_ANO_CONCLUIU#2681, TP_ESCOLA#2682, IN_TREINEIRO#2684, CO_UF_PROVA#2694, SG_UF_PROVA#2695, TP_PRESENCA_CN#2696, TP_PRESENCA_CH#2697, TP_PRESENCA_LC#2698, TP_PRESENCA_MT#2699, NU_NOTA_CN#2704, NU_NOTA_CH#2705, NU_NOTA_LC#2706, NU_NOTA_MT#2707, TP_LINGUA#2712, TP_STATUS_REDACAO#2717, NU_NOTA_REDACAO#2723, Q001#2724, Q002#2725, Q003#2726, Q004#2727, ... 2 more fields]\n                                                                     +- Relation [NU_INSCRICAO#2673,NU_ANO#2674,TP_FAIXA_ETARIA#2675,TP_SEXO#2676,TP_ESTADO_CIVIL#2677,TP_COR_RACA#2678,TP_NACIONALIDADE#2679,TP_ST_CONCLUSAO#2680,TP_ANO_CONCLUIU#2681,TP_ESCOLA#2682,TP_ENSINO#2683,IN_TREINEIRO#2684,CO_MUNICIPIO_ESC#2685,NO_MUNICIPIO_ESC#2686,CO_UF_ESC#2687,SG_UF_ESC#2688,TP_DEPENDENCIA_ADM_ESC#2689,TP_LOCALIZACAO_ESC#2690,TP_SIT_FUNC_ESC#2691,CO_MUNICIPIO_PROVA#2692,NO_MUNICIPIO_PROVA#2693,CO_UF_PROVA#2694,SG_UF_PROVA#2695,TP_PRESENCA_CN#2696,... 52 more fields] csv\n",
     "output_type": "error",
     "traceback": [
      "\u001b[1;31m---------------------------------------------------------------------------\u001b[0m",
      "\u001b[1;31mAnalysisException\u001b[0m                         Traceback (most recent call last)",
      "Cell \u001b[1;32mIn[65], line 4\u001b[0m\n\u001b[0;32m      1\u001b[0m df\u001b[38;5;241m.\u001b[39mcreateOrReplaceTempView(\u001b[38;5;124m\"\u001b[39m\u001b[38;5;124mdf\u001b[39m\u001b[38;5;124m\"\u001b[39m)\n\u001b[0;32m      3\u001b[0m \u001b[38;5;66;03m# Executando uma query SQL\u001b[39;00m\n\u001b[1;32m----> 4\u001b[0m df_sul_nota \u001b[38;5;241m=\u001b[39m \u001b[43mspark\u001b[49m\u001b[38;5;241;43m.\u001b[39;49m\u001b[43msql\u001b[49m\u001b[43m(\u001b[49m\u001b[38;5;124;43m\"\u001b[39;49m\u001b[38;5;124;43mSELECT AVG(NU_NOTA_MEDIA) SUL FROM df WHERE CO_UF_PROVA in (\u001b[39;49m\u001b[38;5;124;43m'\u001b[39;49m\u001b[38;5;124;43m41\u001b[39;49m\u001b[38;5;124;43m'\u001b[39;49m\u001b[38;5;124;43m, \u001b[39;49m\u001b[38;5;124;43m'\u001b[39;49m\u001b[38;5;124;43m42\u001b[39;49m\u001b[38;5;124;43m'\u001b[39;49m\u001b[38;5;124;43m, \u001b[39;49m\u001b[38;5;124;43m'\u001b[39;49m\u001b[38;5;124;43m43\u001b[39;49m\u001b[38;5;124;43m'\u001b[39;49m\u001b[38;5;124;43m)\u001b[39;49m\u001b[38;5;124;43m\"\u001b[39;49m\u001b[43m)\u001b[49m\n\u001b[0;32m      5\u001b[0m df_sudeste_nota \u001b[38;5;241m=\u001b[39m spark\u001b[38;5;241m.\u001b[39msql(\u001b[38;5;124m\"\u001b[39m\u001b[38;5;124mSELECT AVG(NU_NOTA_MEDIA) SUDESTE FROM df WHERE CO_UF_PROVA in (\u001b[39m\u001b[38;5;124m'\u001b[39m\u001b[38;5;124m31\u001b[39m\u001b[38;5;124m'\u001b[39m\u001b[38;5;124m, \u001b[39m\u001b[38;5;124m'\u001b[39m\u001b[38;5;124m32\u001b[39m\u001b[38;5;124m'\u001b[39m\u001b[38;5;124m, \u001b[39m\u001b[38;5;124m'\u001b[39m\u001b[38;5;124m33\u001b[39m\u001b[38;5;124m'\u001b[39m\u001b[38;5;124m, \u001b[39m\u001b[38;5;124m'\u001b[39m\u001b[38;5;124m35\u001b[39m\u001b[38;5;124m'\u001b[39m\u001b[38;5;124m)\u001b[39m\u001b[38;5;124m\"\u001b[39m)\n\u001b[0;32m      6\u001b[0m df_norte_nota \u001b[38;5;241m=\u001b[39m spark\u001b[38;5;241m.\u001b[39msql(\u001b[38;5;124m\"\u001b[39m\u001b[38;5;124mSELECT AVG(NU_NOTA_MEDIA) NORTE FROM df WHERE CO_UF_PROVA in (\u001b[39m\u001b[38;5;124m'\u001b[39m\u001b[38;5;124m11\u001b[39m\u001b[38;5;124m'\u001b[39m\u001b[38;5;124m, \u001b[39m\u001b[38;5;124m'\u001b[39m\u001b[38;5;124m12\u001b[39m\u001b[38;5;124m'\u001b[39m\u001b[38;5;124m, \u001b[39m\u001b[38;5;124m'\u001b[39m\u001b[38;5;124m13\u001b[39m\u001b[38;5;124m'\u001b[39m\u001b[38;5;124m, \u001b[39m\u001b[38;5;124m'\u001b[39m\u001b[38;5;124m14\u001b[39m\u001b[38;5;124m'\u001b[39m\u001b[38;5;124m, \u001b[39m\u001b[38;5;124m'\u001b[39m\u001b[38;5;124m15\u001b[39m\u001b[38;5;124m'\u001b[39m\u001b[38;5;124m, \u001b[39m\u001b[38;5;124m'\u001b[39m\u001b[38;5;124m16\u001b[39m\u001b[38;5;124m'\u001b[39m\u001b[38;5;124m, \u001b[39m\u001b[38;5;124m'\u001b[39m\u001b[38;5;124m17\u001b[39m\u001b[38;5;124m'\u001b[39m\u001b[38;5;124m)\u001b[39m\u001b[38;5;124m\"\u001b[39m)\n",
      "File \u001b[1;32m~\\AppData\\Local\\Packages\\PythonSoftwareFoundation.Python.3.10_qbz5n2kfra8p0\\LocalCache\\local-packages\\Python310\\site-packages\\pyspark\\sql\\session.py:1631\u001b[0m, in \u001b[0;36mSparkSession.sql\u001b[1;34m(self, sqlQuery, args, **kwargs)\u001b[0m\n\u001b[0;32m   1627\u001b[0m         \u001b[38;5;28;01massert\u001b[39;00m \u001b[38;5;28mself\u001b[39m\u001b[38;5;241m.\u001b[39m_jvm \u001b[38;5;129;01mis\u001b[39;00m \u001b[38;5;129;01mnot\u001b[39;00m \u001b[38;5;28;01mNone\u001b[39;00m\n\u001b[0;32m   1628\u001b[0m         litArgs \u001b[38;5;241m=\u001b[39m \u001b[38;5;28mself\u001b[39m\u001b[38;5;241m.\u001b[39m_jvm\u001b[38;5;241m.\u001b[39mPythonUtils\u001b[38;5;241m.\u001b[39mtoArray(\n\u001b[0;32m   1629\u001b[0m             [_to_java_column(lit(v)) \u001b[38;5;28;01mfor\u001b[39;00m v \u001b[38;5;129;01min\u001b[39;00m (args \u001b[38;5;129;01mor\u001b[39;00m [])]\n\u001b[0;32m   1630\u001b[0m         )\n\u001b[1;32m-> 1631\u001b[0m     \u001b[38;5;28;01mreturn\u001b[39;00m DataFrame(\u001b[38;5;28;43mself\u001b[39;49m\u001b[38;5;241;43m.\u001b[39;49m\u001b[43m_jsparkSession\u001b[49m\u001b[38;5;241;43m.\u001b[39;49m\u001b[43msql\u001b[49m\u001b[43m(\u001b[49m\u001b[43msqlQuery\u001b[49m\u001b[43m,\u001b[49m\u001b[43m \u001b[49m\u001b[43mlitArgs\u001b[49m\u001b[43m)\u001b[49m, \u001b[38;5;28mself\u001b[39m)\n\u001b[0;32m   1632\u001b[0m \u001b[38;5;28;01mfinally\u001b[39;00m:\n\u001b[0;32m   1633\u001b[0m     \u001b[38;5;28;01mif\u001b[39;00m \u001b[38;5;28mlen\u001b[39m(kwargs) \u001b[38;5;241m>\u001b[39m \u001b[38;5;241m0\u001b[39m:\n",
      "File \u001b[1;32m~\\AppData\\Local\\Packages\\PythonSoftwareFoundation.Python.3.10_qbz5n2kfra8p0\\LocalCache\\local-packages\\Python310\\site-packages\\py4j\\java_gateway.py:1322\u001b[0m, in \u001b[0;36mJavaMember.__call__\u001b[1;34m(self, *args)\u001b[0m\n\u001b[0;32m   1316\u001b[0m command \u001b[38;5;241m=\u001b[39m proto\u001b[38;5;241m.\u001b[39mCALL_COMMAND_NAME \u001b[38;5;241m+\u001b[39m\\\n\u001b[0;32m   1317\u001b[0m     \u001b[38;5;28mself\u001b[39m\u001b[38;5;241m.\u001b[39mcommand_header \u001b[38;5;241m+\u001b[39m\\\n\u001b[0;32m   1318\u001b[0m     args_command \u001b[38;5;241m+\u001b[39m\\\n\u001b[0;32m   1319\u001b[0m     proto\u001b[38;5;241m.\u001b[39mEND_COMMAND_PART\n\u001b[0;32m   1321\u001b[0m answer \u001b[38;5;241m=\u001b[39m \u001b[38;5;28mself\u001b[39m\u001b[38;5;241m.\u001b[39mgateway_client\u001b[38;5;241m.\u001b[39msend_command(command)\n\u001b[1;32m-> 1322\u001b[0m return_value \u001b[38;5;241m=\u001b[39m \u001b[43mget_return_value\u001b[49m\u001b[43m(\u001b[49m\n\u001b[0;32m   1323\u001b[0m \u001b[43m    \u001b[49m\u001b[43manswer\u001b[49m\u001b[43m,\u001b[49m\u001b[43m \u001b[49m\u001b[38;5;28;43mself\u001b[39;49m\u001b[38;5;241;43m.\u001b[39;49m\u001b[43mgateway_client\u001b[49m\u001b[43m,\u001b[49m\u001b[43m \u001b[49m\u001b[38;5;28;43mself\u001b[39;49m\u001b[38;5;241;43m.\u001b[39;49m\u001b[43mtarget_id\u001b[49m\u001b[43m,\u001b[49m\u001b[43m \u001b[49m\u001b[38;5;28;43mself\u001b[39;49m\u001b[38;5;241;43m.\u001b[39;49m\u001b[43mname\u001b[49m\u001b[43m)\u001b[49m\n\u001b[0;32m   1325\u001b[0m \u001b[38;5;28;01mfor\u001b[39;00m temp_arg \u001b[38;5;129;01min\u001b[39;00m temp_args:\n\u001b[0;32m   1326\u001b[0m     \u001b[38;5;28;01mif\u001b[39;00m \u001b[38;5;28mhasattr\u001b[39m(temp_arg, \u001b[38;5;124m\"\u001b[39m\u001b[38;5;124m_detach\u001b[39m\u001b[38;5;124m\"\u001b[39m):\n",
      "File \u001b[1;32m~\\AppData\\Local\\Packages\\PythonSoftwareFoundation.Python.3.10_qbz5n2kfra8p0\\LocalCache\\local-packages\\Python310\\site-packages\\pyspark\\errors\\exceptions\\captured.py:185\u001b[0m, in \u001b[0;36mcapture_sql_exception.<locals>.deco\u001b[1;34m(*a, **kw)\u001b[0m\n\u001b[0;32m    181\u001b[0m converted \u001b[38;5;241m=\u001b[39m convert_exception(e\u001b[38;5;241m.\u001b[39mjava_exception)\n\u001b[0;32m    182\u001b[0m \u001b[38;5;28;01mif\u001b[39;00m \u001b[38;5;129;01mnot\u001b[39;00m \u001b[38;5;28misinstance\u001b[39m(converted, UnknownException):\n\u001b[0;32m    183\u001b[0m     \u001b[38;5;66;03m# Hide where the exception came from that shows a non-Pythonic\u001b[39;00m\n\u001b[0;32m    184\u001b[0m     \u001b[38;5;66;03m# JVM exception message.\u001b[39;00m\n\u001b[1;32m--> 185\u001b[0m     \u001b[38;5;28;01mraise\u001b[39;00m converted \u001b[38;5;28;01mfrom\u001b[39;00m \u001b[38;5;28;01mNone\u001b[39;00m\n\u001b[0;32m    186\u001b[0m \u001b[38;5;28;01melse\u001b[39;00m:\n\u001b[0;32m    187\u001b[0m     \u001b[38;5;28;01mraise\u001b[39;00m\n",
      "\u001b[1;31mAnalysisException\u001b[0m: [UNRESOLVED_COLUMN.WITH_SUGGESTION] A column or function parameter with name `CO_UF_PROVA` cannot be resolved. Did you mean one of the following? [`TP_COR_RACA`, `TP_ESCOLA`, `Q001`, `Q002`, `Q003`].; line 1 pos 44;\n'Project ['AVG('NU_NOTA_MEDIA) AS SUL#3571]\n+- 'Filter 'CO_UF_PROVA IN (41,42,43)\n   +- SubqueryAlias df\n      +- View (`df`, [TP_FAIXA_ETARIA#3359,TP_COR_RACA#3373,TP_ST_CONCLUSAO#3387,TP_ESCOLA#3401,IN_TREINEIRO#3415,TP_LINGUA#3429,Q001#3201,Q002#3215,Q003#3229,Q004#3243,Q006#3257,Q024#3271,NU_NOTA_MEDIA#3018])\n         +- Project [TP_FAIXA_ETARIA#3359, TP_COR_RACA#3373, TP_ST_CONCLUSAO#3387, TP_ESCOLA#3401, IN_TREINEIRO#3415, cast(TP_LINGUA#2712 as int) AS TP_LINGUA#3429, Q001#3201, Q002#3215, Q003#3229, Q004#3243, Q006#3257, Q024#3271, NU_NOTA_MEDIA#3018]\n            +- Project [TP_FAIXA_ETARIA#3359, TP_COR_RACA#3373, TP_ST_CONCLUSAO#3387, TP_ESCOLA#3401, cast(IN_TREINEIRO#2684 as int) AS IN_TREINEIRO#3415, TP_LINGUA#2712, Q001#3201, Q002#3215, Q003#3229, Q004#3243, Q006#3257, Q024#3271, NU_NOTA_MEDIA#3018]\n               +- Project [TP_FAIXA_ETARIA#3359, TP_COR_RACA#3373, TP_ST_CONCLUSAO#3387, cast(TP_ESCOLA#2682 as int) AS TP_ESCOLA#3401, IN_TREINEIRO#2684, TP_LINGUA#2712, Q001#3201, Q002#3215, Q003#3229, Q004#3243, Q006#3257, Q024#3271, NU_NOTA_MEDIA#3018]\n                  +- Project [TP_FAIXA_ETARIA#3359, TP_COR_RACA#3373, cast(TP_ST_CONCLUSAO#2680 as int) AS TP_ST_CONCLUSAO#3387, TP_ESCOLA#2682, IN_TREINEIRO#2684, TP_LINGUA#2712, Q001#3201, Q002#3215, Q003#3229, Q004#3243, Q006#3257, Q024#3271, NU_NOTA_MEDIA#3018]\n                     +- Project [TP_FAIXA_ETARIA#3359, cast(TP_COR_RACA#2678 as int) AS TP_COR_RACA#3373, TP_ST_CONCLUSAO#2680, TP_ESCOLA#2682, IN_TREINEIRO#2684, TP_LINGUA#2712, Q001#3201, Q002#3215, Q003#3229, Q004#3243, Q006#3257, Q024#3271, NU_NOTA_MEDIA#3018]\n                        +- Project [cast(TP_FAIXA_ETARIA#2675 as int) AS TP_FAIXA_ETARIA#3359, TP_COR_RACA#2678, TP_ST_CONCLUSAO#2680, TP_ESCOLA#2682, IN_TREINEIRO#2684, TP_LINGUA#2712, Q001#3201, Q002#3215, Q003#3229, Q004#3243, Q006#3257, Q024#3271, NU_NOTA_MEDIA#3018]\n                           +- Project [TP_FAIXA_ETARIA#2675, TP_COR_RACA#2678, TP_ST_CONCLUSAO#2680, TP_ESCOLA#2682, IN_TREINEIRO#2684, TP_LINGUA#2712, Q001#3201, Q002#3215, Q003#3229, Q004#3243, Q006#3257, map(A, 1, B, 2, C, 3, D, 3, E, 3)[Q024#2747] AS Q024#3271, NU_NOTA_MEDIA#3018]\n                              +- Project [TP_FAIXA_ETARIA#2675, TP_COR_RACA#2678, TP_ST_CONCLUSAO#2680, TP_ESCOLA#2682, IN_TREINEIRO#2684, TP_LINGUA#2712, Q001#3201, Q002#3215, Q003#3229, Q004#3243, map(A, 1, B, 2, C, 3, D, 4, E, 5, F, 6, G, 7, H, 8, I, 9, J, 10, K, 11, L, 12, ... 10 more fields)[Q006#2729] AS Q006#3257, Q024#2747, NU_NOTA_MEDIA#3018]\n                                 +- Project [TP_FAIXA_ETARIA#2675, TP_COR_RACA#2678, TP_ST_CONCLUSAO#2680, TP_ESCOLA#2682, IN_TREINEIRO#2684, TP_LINGUA#2712, Q001#3201, Q002#3215, Q003#3229, map(A, 1, B, 2, C, 3, D, 4, E, 5, F, 6)[Q004#2727] AS Q004#3243, Q006#2729, Q024#2747, NU_NOTA_MEDIA#3018]\n                                    +- Project [TP_FAIXA_ETARIA#2675, TP_COR_RACA#2678, TP_ST_CONCLUSAO#2680, TP_ESCOLA#2682, IN_TREINEIRO#2684, TP_LINGUA#2712, Q001#3201, Q002#3215, map(A, 1, B, 2, C, 3, D, 4, E, 5, F, 6)[Q003#2726] AS Q003#3229, Q004#2727, Q006#2729, Q024#2747, NU_NOTA_MEDIA#3018]\n                                       +- Project [TP_FAIXA_ETARIA#2675, TP_COR_RACA#2678, TP_ST_CONCLUSAO#2680, TP_ESCOLA#2682, IN_TREINEIRO#2684, TP_LINGUA#2712, Q001#3201, map(A, 1, B, 2, C, 3, D, 4, E, 5, F, 6, G, 7, H, 8)[Q002#2725] AS Q002#3215, Q003#2726, Q004#2727, Q006#2729, Q024#2747, NU_NOTA_MEDIA#3018]\n                                          +- Project [TP_FAIXA_ETARIA#2675, TP_COR_RACA#2678, TP_ST_CONCLUSAO#2680, TP_ESCOLA#2682, IN_TREINEIRO#2684, TP_LINGUA#2712, map(A, 1, B, 2, C, 3, D, 4, E, 5, F, 6, G, 7, H, 8)[Q001#2724] AS Q001#3201, Q002#2725, Q003#2726, Q004#2727, Q006#2729, Q024#2747, NU_NOTA_MEDIA#3018]\n                                             +- Project [TP_FAIXA_ETARIA#2675, TP_COR_RACA#2678, TP_ST_CONCLUSAO#2680, TP_ESCOLA#2682, IN_TREINEIRO#2684, TP_LINGUA#2712, Q001#2724, Q002#2725, Q003#2726, Q004#2727, Q006#2729, Q024#2747, NU_NOTA_MEDIA#3018]\n                                                +- Project [TP_FAIXA_ETARIA#2675, TP_COR_RACA#2678, TP_NACIONALIDADE#2679, TP_ST_CONCLUSAO#2680, TP_ANO_CONCLUIU#2681, TP_ESCOLA#2682, IN_TREINEIRO#2684, CO_UF_PROVA#2694, SG_UF_PROVA#2695, TP_PRESENCA_CN#2696, TP_PRESENCA_CH#2697, TP_PRESENCA_LC#2698, TP_PRESENCA_MT#2699, TP_LINGUA#2712, TP_STATUS_REDACAO#2717, NU_NOTA_REDACAO#2723, Q001#2724, Q002#2725, Q003#2726, Q004#2727, Q006#2729, Q024#2747, NU_NOTA_MEDIA#3018]\n                                                   +- Project [TP_FAIXA_ETARIA#2675, TP_COR_RACA#2678, TP_NACIONALIDADE#2679, TP_ST_CONCLUSAO#2680, TP_ANO_CONCLUIU#2681, TP_ESCOLA#2682, IN_TREINEIRO#2684, CO_UF_PROVA#2694, SG_UF_PROVA#2695, TP_PRESENCA_CN#2696, TP_PRESENCA_CH#2697, TP_PRESENCA_LC#2698, TP_PRESENCA_MT#2699, NU_NOTA_CN#2704, NU_NOTA_CH#2705, NU_NOTA_LC#2706, NU_NOTA_MT#2707, TP_LINGUA#2712, TP_STATUS_REDACAO#2717, NU_NOTA_REDACAO#2723, Q001#2724, Q002#2725, Q003#2726, Q004#2727, ... 3 more fields]\n                                                      +- Filter (cast(TP_PRESENCA_MT#2699 as int) = 1)\n                                                         +- Filter (cast(TP_PRESENCA_LC#2698 as int) = 1)\n                                                            +- Filter (cast(TP_PRESENCA_CH#2697 as int) = 1)\n                                                               +- Filter (cast(TP_PRESENCA_CN#2696 as int) = 1)\n                                                                  +- Project [TP_FAIXA_ETARIA#2675, TP_COR_RACA#2678, TP_NACIONALIDADE#2679, TP_ST_CONCLUSAO#2680, TP_ANO_CONCLUIU#2681, TP_ESCOLA#2682, IN_TREINEIRO#2684, CO_UF_PROVA#2694, SG_UF_PROVA#2695, TP_PRESENCA_CN#2696, TP_PRESENCA_CH#2697, TP_PRESENCA_LC#2698, TP_PRESENCA_MT#2699, NU_NOTA_CN#2704, NU_NOTA_CH#2705, NU_NOTA_LC#2706, NU_NOTA_MT#2707, TP_LINGUA#2712, TP_STATUS_REDACAO#2717, NU_NOTA_REDACAO#2723, Q001#2724, Q002#2725, Q003#2726, Q004#2727, ... 2 more fields]\n                                                                     +- Relation [NU_INSCRICAO#2673,NU_ANO#2674,TP_FAIXA_ETARIA#2675,TP_SEXO#2676,TP_ESTADO_CIVIL#2677,TP_COR_RACA#2678,TP_NACIONALIDADE#2679,TP_ST_CONCLUSAO#2680,TP_ANO_CONCLUIU#2681,TP_ESCOLA#2682,TP_ENSINO#2683,IN_TREINEIRO#2684,CO_MUNICIPIO_ESC#2685,NO_MUNICIPIO_ESC#2686,CO_UF_ESC#2687,SG_UF_ESC#2688,TP_DEPENDENCIA_ADM_ESC#2689,TP_LOCALIZACAO_ESC#2690,TP_SIT_FUNC_ESC#2691,CO_MUNICIPIO_PROVA#2692,NO_MUNICIPIO_PROVA#2693,CO_UF_PROVA#2694,SG_UF_PROVA#2695,TP_PRESENCA_CN#2696,... 52 more fields] csv\n"
     ]
    }
   ],
   "source": [
    "df.createOrReplaceTempView(\"df\")\n",
    "\n",
    "# Executando uma query SQL\n",
    "df_sul_nota = spark.sql(\"SELECT AVG(NU_NOTA_MEDIA) SUL FROM df WHERE CO_UF_PROVA in ('41', '42', '43')\")\n",
    "df_sudeste_nota = spark.sql(\"SELECT AVG(NU_NOTA_MEDIA) SUDESTE FROM df WHERE CO_UF_PROVA in ('31', '32', '33', '35')\")\n",
    "df_norte_nota = spark.sql(\"SELECT AVG(NU_NOTA_MEDIA) NORTE FROM df WHERE CO_UF_PROVA in ('11', '12', '13', '14', '15', '16', '17')\")\n",
    "df_nordeste_nota = spark.sql(\"SELECT AVG(NU_NOTA_MEDIA) NORDESTE FROM df WHERE CO_UF_PROVA in ('21', '22', '23', '24', '25', '26', '27')\")\n",
    "df_centro_oeste_nota = spark.sql(\"SELECT AVG(NU_NOTA_MEDIA) CENTRO_OESTE FROM df WHERE CO_UF_PROVA in ('50', '51', '52', '53')\")\n",
    "\n",
    "df_sul_nota.show()\n",
    "df_sudeste_nota.show()\n",
    "df_norte_nota.show()\n",
    "df_nordeste_nota.show()\n",
    "\n",
    "\n",
    "\n",
    "\n"
   ]
  }
 ],
 "metadata": {
  "kernelspec": {
   "display_name": "Python 3",
   "language": "python",
   "name": "python3"
  },
  "language_info": {
   "codemirror_mode": {
    "name": "ipython",
    "version": 3
   },
   "file_extension": ".py",
   "mimetype": "text/x-python",
   "name": "python",
   "nbconvert_exporter": "python",
   "pygments_lexer": "ipython3",
   "version": "3.10.11"
  }
 },
 "nbformat": 4,
 "nbformat_minor": 2
}
