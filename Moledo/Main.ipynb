{
 "cells": [
  {
   "cell_type": "code",
   "execution_count": 146,
   "metadata": {},
   "outputs": [
    {
     "data": {
      "text/plain": [
       "<module 'dic_moledo' from 'c:\\\\Users\\\\mathe\\\\OneDrive\\\\Documentos\\\\Códigos\\\\RECONHECIMENTO-DE-PADROES-COM-INTELIGENCIA-ARTIFICIAL-MICRODADOS-ENEM\\\\dic_moledo.py'>"
      ]
     },
     "execution_count": 146,
     "metadata": {},
     "output_type": "execute_result"
    }
   ],
   "source": [
    "from pyspark.sql import SparkSession\n",
    "from pyspark.sql.functions import when, col\n",
    "from ydata_profiling import ProfileReport\n",
    "import numpy as np\n",
    "import pandas as pd\n",
    "import dic_moledo\n",
    "from pyspark.sql.functions import col, create_map, lit\n",
    "from itertools import chain\n",
    "import importlib\n",
    "\n",
    "importlib.reload(dic_moledo)"
   ]
  },
  {
   "cell_type": "code",
   "execution_count": 147,
   "metadata": {},
   "outputs": [
    {
     "name": "stdout",
     "output_type": "stream",
     "text": [
      "{'spark.app.submitTime': '1713161579874', 'spark.driver.extraJavaOptions': '-Djava.net.preferIPv6Addresses=false -XX:+IgnoreUnrecognizedVMOptions --add-opens=java.base/java.lang=ALL-UNNAMED --add-opens=java.base/java.lang.invoke=ALL-UNNAMED --add-opens=java.base/java.lang.reflect=ALL-UNNAMED --add-opens=java.base/java.io=ALL-UNNAMED --add-opens=java.base/java.net=ALL-UNNAMED --add-opens=java.base/java.nio=ALL-UNNAMED --add-opens=java.base/java.util=ALL-UNNAMED --add-opens=java.base/java.util.concurrent=ALL-UNNAMED --add-opens=java.base/java.util.concurrent.atomic=ALL-UNNAMED --add-opens=java.base/jdk.internal.ref=ALL-UNNAMED --add-opens=java.base/sun.nio.ch=ALL-UNNAMED --add-opens=java.base/sun.nio.cs=ALL-UNNAMED --add-opens=java.base/sun.security.action=ALL-UNNAMED --add-opens=java.base/sun.util.calendar=ALL-UNNAMED --add-opens=java.security.jgss/sun.security.krb5=ALL-UNNAMED -Djdk.reflect.useDirectMethodHandle=false', 'spark.driver.memory': '4g', 'spark.executor.memory': '4g', 'spark.driver.host': 'DESKTOP-D8Q42PQ', 'spark.executor.id': 'driver', 'spark.app.name': 'Minha Aplicação', 'spark.app.startTime': '1713165351262', 'spark.rdd.compress': 'True', 'spark.executor.extraJavaOptions': '-Djava.net.preferIPv6Addresses=false -XX:+IgnoreUnrecognizedVMOptions --add-opens=java.base/java.lang=ALL-UNNAMED --add-opens=java.base/java.lang.invoke=ALL-UNNAMED --add-opens=java.base/java.lang.reflect=ALL-UNNAMED --add-opens=java.base/java.io=ALL-UNNAMED --add-opens=java.base/java.net=ALL-UNNAMED --add-opens=java.base/java.nio=ALL-UNNAMED --add-opens=java.base/java.util=ALL-UNNAMED --add-opens=java.base/java.util.concurrent=ALL-UNNAMED --add-opens=java.base/java.util.concurrent.atomic=ALL-UNNAMED --add-opens=java.base/jdk.internal.ref=ALL-UNNAMED --add-opens=java.base/sun.nio.ch=ALL-UNNAMED --add-opens=java.base/sun.nio.cs=ALL-UNNAMED --add-opens=java.base/sun.security.action=ALL-UNNAMED --add-opens=java.base/sun.util.calendar=ALL-UNNAMED --add-opens=java.security.jgss/sun.security.krb5=ALL-UNNAMED -Djdk.reflect.useDirectMethodHandle=false', 'spark.serializer.objectStreamReset': '100', 'spark.driver.maxResultSize': '2g', 'spark.master': 'local[*]', 'spark.submit.pyFiles': '', 'spark.submit.deployMode': 'client', 'spark.app.id': 'local-1713165351310', 'spark.ui.showConsoleProgress': 'true', 'spark.driver.port': '60933', 'spark.executor.memoryOverhead': '1g'}\n"
     ]
    }
   ],
   "source": [
    "# Configura a SparkSession\n",
    "spark = SparkSession.builder \\\n",
    "    .appName(\"Minha Aplicação\") \\\n",
    "    .config(\"spark.driver.memory\", \"4g\") \\\n",
    "    .config(\"spark.executor.memory\", \"4g\") \\\n",
    "    .config(\"spark.driver.maxResultSize\", \"2g\") \\\n",
    "    .config(\"spark.executor.memoryOverhead\", \"1g\") \\\n",
    "    .getOrCreate()\n",
    "\n",
    "# Agora você pode verificar todas as configurações atuais\n",
    "conf = spark.sparkContext.getConf()\n",
    "print({item[0]: item[1] for item in conf.getAll()})\n",
    "\n"
   ]
  },
  {
   "cell_type": "code",
   "execution_count": 148,
   "metadata": {},
   "outputs": [],
   "source": [
    "# Lendo um arquivo CSV\n",
    "df = spark.read.csv(\"MICRODADOS_ENEM_2022.csv\", header=True, sep=\";\")"
   ]
  },
  {
   "cell_type": "code",
   "execution_count": 149,
   "metadata": {},
   "outputs": [
    {
     "name": "stdout",
     "output_type": "stream",
     "text": [
      "+-----------+----------------+---------------+---------+-----------+-----------+--------------+--------------+--------------+--------------+----------+----------+----------+----------+---------+-----------------+---------------+----+----+----+----+----+----+\n",
      "|TP_COR_RACA|TP_NACIONALIDADE|TP_ANO_CONCLUIU|TP_ESCOLA|CO_UF_PROVA|SG_UF_PROVA|TP_PRESENCA_CN|TP_PRESENCA_CH|TP_PRESENCA_LC|TP_PRESENCA_MT|NU_NOTA_CN|NU_NOTA_CH|NU_NOTA_LC|NU_NOTA_MT|TP_LINGUA|TP_STATUS_REDACAO|NU_NOTA_REDACAO|Q001|Q002|Q003|Q004|Q006|Q024|\n",
      "+-----------+----------------+---------------+---------+-----------+-----------+--------------+--------------+--------------+--------------+----------+----------+----------+----------+---------+-----------------+---------------+----+----+----+----+----+----+\n",
      "|          2|               1|              2|        1|         53|         DF|             0|             0|             0|             0|      NULL|      NULL|      NULL|      NULL|        0|             NULL|           NULL|   A|   A|   A|   B|   B|   A|\n",
      "|          1|               1|             16|        1|         53|         DF|             0|             0|             0|             0|      NULL|      NULL|      NULL|      NULL|        0|             NULL|           NULL|   D|   D|   E|   E|   Q|   E|\n",
      "|          2|               1|              2|        1|         29|         BA|             1|             1|             1|             1|     421.1|       546|     498.8|     565.3|        1|                1|            760|   E|   F|   A|   D|   B|   A|\n",
      "|          3|               1|              2|        1|         32|         ES|             1|             1|             1|             1|     490.7|     388.6|     357.8|       416|        1|                1|            320|   C|   A|   A|   B|   A|   B|\n",
      "|          3|               1|              1|        1|         15|         PA|             0|             0|             0|             0|      NULL|      NULL|      NULL|      NULL|        0|             NULL|           NULL|   D|   B|   A|   B|   B|   A|\n",
      "|          3|               1|              2|        1|         33|         RJ|             0|             0|             0|             0|      NULL|      NULL|      NULL|      NULL|        1|             NULL|           NULL|   E|   C|   B|   B|   C|   A|\n",
      "|          2|               1|              2|        1|         26|         PE|             0|             0|             0|             0|      NULL|      NULL|      NULL|      NULL|        0|             NULL|           NULL|   B|   B|   B|   B|   B|   A|\n",
      "|          2|               1|              0|        1|         33|         RJ|             1|             1|             1|             1|     398.1|     427.3|     400.2|     404.9|        1|                1|            440|   E|   E|   B|   B|   B|   A|\n",
      "|          3|               1|              0|        1|         29|         BA|             0|             0|             0|             0|      NULL|      NULL|      NULL|      NULL|        1|             NULL|           NULL|   A|   D|   A|   A|   B|   A|\n",
      "|          3|               1|              1|        1|         26|         PE|             1|             1|             1|             1|     467.5|       461|     466.7|     435.3|        1|                1|            360|   E|   E|   B|   B|   B|   A|\n",
      "|          3|               1|              2|        1|         25|         PB|             0|             0|             0|             0|      NULL|      NULL|      NULL|      NULL|        1|             NULL|           NULL|   E|   B|   A|   A|   A|   A|\n",
      "|          1|               1|              0|        3|         28|         SE|             1|             1|             1|             1|     458.7|     539.8|     488.2|     456.8|        1|                1|            940|   E|   E|   B|   A|   B|   A|\n",
      "|          2|               1|              1|        1|         29|         BA|             0|             0|             0|             0|      NULL|      NULL|      NULL|      NULL|        1|             NULL|           NULL|   D|   B|   F|   A|   B|   B|\n",
      "|          3|               1|              0|        1|         35|         SP|             0|             0|             0|             0|      NULL|      NULL|      NULL|      NULL|        1|             NULL|           NULL|   C|   E|   C|   D|   C|   A|\n",
      "|          2|               2|              3|        1|         51|         MT|             0|             0|             0|             0|      NULL|      NULL|      NULL|      NULL|        1|             NULL|           NULL|   E|   E|   B|   B|   C|   B|\n",
      "|          3|               1|              0|        2|         28|         SE|             0|             0|             0|             0|      NULL|      NULL|      NULL|      NULL|        1|             NULL|           NULL|   B|   C|   B|   B|   B|   A|\n",
      "|          2|               1|              0|        1|         29|         BA|             0|             0|             0|             0|      NULL|      NULL|      NULL|      NULL|        0|             NULL|           NULL|   A|   D|   B|   B|   B|   A|\n",
      "|          3|               1|              0|        1|         35|         SP|             1|             1|             1|             1|     396.8|     528.7|     551.4|       536|        0|                1|            640|   G|   F|   F|   F|   B|   B|\n",
      "|          2|               1|              5|        1|         31|         MG|             1|             1|             1|             1|     481.4|     603.6|       589|       695|        1|                1|            860|   B|   F|   A|   D|   B|   A|\n",
      "|          1|               1|              0|        1|         33|         RJ|             0|             0|             0|             0|      NULL|      NULL|      NULL|      NULL|        0|             NULL|           NULL|   D|   B|   F|   D|   D|   A|\n",
      "+-----------+----------------+---------------+---------+-----------+-----------+--------------+--------------+--------------+--------------+----------+----------+----------+----------+---------+-----------------+---------------+----+----+----+----+----+----+\n",
      "only showing top 20 rows\n",
      "\n"
     ]
    }
   ],
   "source": [
    "colunas_descartadas = ['NU_INSCRICAO', 'NU_ANO', 'TP_ENSINO','CO_MUNICIPIO_ESC', 'NO_MUNICIPIO_ESC', 'CO_UF_ESC', 'SG_UF_ESC', 'TP_DEPENDENCIA_ADM_ESC', 'TP_LOCALIZACAO_ESC', \n",
    "                       'TP_SIT_FUNC_ESC', 'CO_MUNICIPIO_PROVA', 'NO_MUNICIPIO_PROVA', 'CO_PROVA_CN', 'CO_PROVA_CH', 'CO_PROVA_LC', 'CO_PROVA_MT','TX_RESPOSTAS_CN', 'TX_RESPOSTAS_CH', \n",
    "                       'TX_RESPOSTAS_LC', 'TX_RESPOSTAS_MT', 'TX_GABARITO_CN', 'TX_GABARITO_CH', 'TX_GABARITO_LC', 'TX_GABARITO_MT', 'NU_NOTA_COMP1', \n",
    "                       'NU_NOTA_COMP2', 'NU_NOTA_COMP3', 'NU_NOTA_COMP4', 'NU_NOTA_COMP5','TP_SEXO','TP_ESTADO_CIVIL','Q011','Q005','Q007','Q008','Q009','Q010','Q012','Q013','Q015',\n",
    "                       'Q016','Q017','Q018','Q019','Q020','Q021','Q023','Q014','Q022','Q025','TP_ST_CONCLUSAO','TP_FAIXA_ETARIA','IN_TREINEIRO']\n",
    "\n",
    "# Descartando colunas\n",
    "df = df.drop(*colunas_descartadas)\n",
    "\n",
    "df.show()"
   ]
  },
  {
   "cell_type": "code",
   "execution_count": 150,
   "metadata": {},
   "outputs": [
    {
     "data": {
      "text/plain": [
       "2122885"
      ]
     },
     "execution_count": 150,
     "metadata": {},
     "output_type": "execute_result"
    }
   ],
   "source": [
    "# Descartando linhas que contem valores diferentes de 1 em TP_PRESENCA_CN\n",
    "df = df.filter(df.TP_PRESENCA_CN == 1)\n",
    "df = df.filter(df.TP_PRESENCA_CH == 1)\n",
    "df = df.filter(df.TP_PRESENCA_LC == 1)\n",
    "df = df.filter(df.TP_PRESENCA_MT == 1)\n",
    "\n",
    "df.count()\n",
    "\n",
    "# Descartando colunas que contem valores H na coluna Q001 e Q002\n",
    "df = df.filter(df.Q001 != 'H')\n",
    "df = df.filter(df.Q002 != 'H')\n",
    "\n",
    "df.count()"
   ]
  },
  {
   "cell_type": "code",
   "execution_count": 151,
   "metadata": {},
   "outputs": [
    {
     "name": "stdout",
     "output_type": "stream",
     "text": [
      "+-----------+----------------+---------------+---------+-----------+-----------+--------------+--------------+--------------+--------------+---------+-----------------+---------------+----+----+----+----+----+----+------------------+\n",
      "|TP_COR_RACA|TP_NACIONALIDADE|TP_ANO_CONCLUIU|TP_ESCOLA|CO_UF_PROVA|SG_UF_PROVA|TP_PRESENCA_CN|TP_PRESENCA_CH|TP_PRESENCA_LC|TP_PRESENCA_MT|TP_LINGUA|TP_STATUS_REDACAO|NU_NOTA_REDACAO|Q001|Q002|Q003|Q004|Q006|Q024|     NU_NOTA_MEDIA|\n",
      "+-----------+----------------+---------------+---------+-----------+-----------+--------------+--------------+--------------+--------------+---------+-----------------+---------------+----+----+----+----+----+----+------------------+\n",
      "|          2|               1|              2|        1|         29|         BA|             1|             1|             1|             1|        1|                1|            760|   E|   F|   A|   D|   B|   A|            558.24|\n",
      "|          3|               1|              2|        1|         32|         ES|             1|             1|             1|             1|        1|                1|            320|   C|   A|   A|   B|   A|   B|            394.62|\n",
      "|          2|               1|              0|        1|         33|         RJ|             1|             1|             1|             1|        1|                1|            440|   E|   E|   B|   B|   B|   A|             414.1|\n",
      "|          3|               1|              1|        1|         26|         PE|             1|             1|             1|             1|        1|                1|            360|   E|   E|   B|   B|   B|   A|             438.1|\n",
      "|          1|               1|              0|        3|         28|         SE|             1|             1|             1|             1|        1|                1|            940|   E|   E|   B|   A|   B|   A|             576.7|\n",
      "|          3|               1|              0|        1|         35|         SP|             1|             1|             1|             1|        0|                1|            640|   G|   F|   F|   F|   B|   B|            530.58|\n",
      "|          2|               1|              5|        1|         31|         MG|             1|             1|             1|             1|        1|                1|            860|   B|   F|   A|   D|   B|   A|             645.8|\n",
      "|          1|               1|              0|        1|         33|         RJ|             1|             1|             1|             1|        1|                1|            640|   B|   D|   D|   B|   B|   B|             500.4|\n",
      "|          3|               1|              1|        1|         23|         CE|             1|             1|             1|             1|        1|                1|            760|   E|   E|   B|   B|   E|   A|            605.58|\n",
      "|          3|               1|              4|        1|         29|         BA|             1|             1|             1|             1|        0|                1|            520|   C|   C|   A|   A|   C|   A|445.56000000000006|\n",
      "|          2|               1|              3|        1|         29|         BA|             1|             1|             1|             1|        0|                1|            640|   E|   E|   D|   B|   B|   B| 548.5400000000001|\n",
      "|          3|               1|              1|        1|         13|         AM|             1|             1|             1|             1|        1|                1|            640|   E|   E|   B|   D|   G|   C|            630.62|\n",
      "|          1|               1|              0|        1|         43|         RS|             1|             1|             1|             1|        0|                1|            360|   A|   F|   F|   E|   B|   A|            385.88|\n",
      "|          1|               1|              7|        1|         43|         RS|             1|             1|             1|             1|        0|                1|            760|   E|   E|   B|   B|   E|   B|            562.68|\n",
      "|          3|               1|              0|        1|         21|         MA|             1|             1|             1|             1|        0|                1|            540|   B|   D|   A|   A|   B|   A|             458.4|\n",
      "|          3|               1|             16|        1|         13|         AM|             1|             1|             1|             1|        0|                1|            360|   E|   E|   D|   B|   D|   B|493.53999999999996|\n",
      "|          3|               1|             13|        1|         26|         PE|             1|             1|             1|             1|        1|                1|            420|   B|   E|   C|   B|   D|   A|            415.84|\n",
      "|          1|               1|              1|        1|         35|         SP|             1|             1|             1|             1|        1|                1|            460|   C|   E|   A|   B|   C|   B|             501.5|\n",
      "|          3|               1|              0|        2|         23|         CE|             1|             1|             1|             1|        1|                1|            560|   C|   D|   C|   B|   B|   A|471.94000000000005|\n",
      "|          3|               1|              1|        1|         15|         PA|             1|             1|             1|             1|        1|                1|            360|   E|   E|   C|   B|   C|   A|            406.86|\n",
      "+-----------+----------------+---------------+---------+-----------+-----------+--------------+--------------+--------------+--------------+---------+-----------------+---------------+----+----+----+----+----+----+------------------+\n",
      "only showing top 20 rows\n",
      "\n"
     ]
    }
   ],
   "source": [
    "# Criando a coluna media e descartando as colunas de notas\n",
    "df = df.withColumn('NU_NOTA_MEDIA', (col('NU_NOTA_CN') + col('NU_NOTA_CH') + col('NU_NOTA_LC') + col('NU_NOTA_MT') + col('NU_NOTA_REDACAO'))/5)\n",
    "df = df.drop('NU_NOTA_CN','NU_NOTA_CH','NU_NOTA_LC','NU_NOTA_MT')\n",
    "\n",
    "df.show()"
   ]
  },
  {
   "cell_type": "code",
   "execution_count": 152,
   "metadata": {},
   "outputs": [],
   "source": [
    "colunas_descartadas = ['TP_PRESENCA_CN','TP_PRESENCA_CH','TP_PRESENCA_LC','TP_PRESENCA_MT','TP_STATUS_REDACAO','SG_UF_PROVA','NU_NOTA_REDACAO','TP_ANO_CONCLUIU','TP_NACIONALIDADE']\n",
    "\n",
    "# Descartando colunas\n",
    "df = df.drop(*colunas_descartadas)\n"
   ]
  },
  {
   "cell_type": "code",
   "execution_count": 153,
   "metadata": {},
   "outputs": [
    {
     "name": "stdout",
     "output_type": "stream",
     "text": [
      "{'A': 1, 'B': 2, 'C': 3, 'D': 4, 'E': 5, 'F': 6, 'G': 7, 'H': 8, 'I': 9, 'J': 10, 'K': 11, 'L': 12, 'M': 13, 'N': 14, 'O': 15, 'P': 16, 'Q': 17}\n"
     ]
    }
   ],
   "source": [
    "print(dic_moledo.q006_dict)"
   ]
  },
  {
   "cell_type": "code",
   "execution_count": 154,
   "metadata": {},
   "outputs": [
    {
     "name": "stderr",
     "output_type": "stream",
     "text": [
      "C:\\Users\\mathe\\AppData\\Local\\Packages\\PythonSoftwareFoundation.Python.3.10_qbz5n2kfra8p0\\LocalCache\\local-packages\\Python310\\site-packages\\pyspark\\sql\\column.py:460: FutureWarning: A column as 'key' in getItem is deprecated as of Spark 3.0, and will not be supported in the future release. Use `column[key]` or `column.key` syntax instead.\n",
      "  warnings.warn(\n"
     ]
    }
   ],
   "source": [
    "# Colunas Q001 ate Q025\n",
    "colunas = ['Q001','Q002','Q003','Q004','Q006','Q024']\n",
    "\n",
    "\n",
    "for coluna in colunas:\n",
    "    # Pegando os valores correspondentes a cada letra no dicionario dic\n",
    "    nome_dict = coluna.lower() + '_dict'  # Constrói o nome do dicionário\n",
    "    if hasattr(dic_moledo, nome_dict):  # Verifica se o dicionário existe no módulo dicionario\n",
    "        mapeamento = getattr(dic_moledo, nome_dict)  # Obtém o dicionário\n",
    "        mapeamento_expr = create_map([lit(x) for x in chain(*mapeamento.items())])\n",
    "        df = df.withColumn(coluna, mapeamento_expr.getItem(col(coluna)))\n"
   ]
  },
  {
   "cell_type": "code",
   "execution_count": 155,
   "metadata": {},
   "outputs": [
    {
     "name": "stdout",
     "output_type": "stream",
     "text": [
      "+-----------+---------+-----------+---------+----+----+----+----+----+----+------------------+\n",
      "|TP_COR_RACA|TP_ESCOLA|CO_UF_PROVA|TP_LINGUA|Q001|Q002|Q003|Q004|Q006|Q024|     NU_NOTA_MEDIA|\n",
      "+-----------+---------+-----------+---------+----+----+----+----+----+----+------------------+\n",
      "|          2|        1|         29|        1|   5|   6|   1|   4|   2|   1|            558.24|\n",
      "|          3|        1|         32|        1|   3|   1|   1|   2|   1|   2|            394.62|\n",
      "|          2|        1|         33|        1|   5|   5|   2|   2|   2|   1|             414.1|\n",
      "|          3|        1|         26|        1|   5|   5|   2|   2|   2|   1|             438.1|\n",
      "|          1|        3|         28|        1|   5|   5|   2|   1|   2|   1|             576.7|\n",
      "|          3|        1|         35|        0|   7|   6|   6|   6|   2|   2|            530.58|\n",
      "|          2|        1|         31|        1|   2|   6|   1|   4|   2|   1|             645.8|\n",
      "|          1|        1|         33|        1|   2|   4|   4|   2|   2|   2|             500.4|\n",
      "|          3|        1|         23|        1|   5|   5|   2|   2|   5|   1|            605.58|\n",
      "|          3|        1|         29|        0|   3|   3|   1|   1|   3|   1|445.56000000000006|\n",
      "|          2|        1|         29|        0|   5|   5|   4|   2|   2|   2| 548.5400000000001|\n",
      "|          3|        1|         13|        1|   5|   5|   2|   4|   7|   3|            630.62|\n",
      "|          1|        1|         43|        0|   1|   6|   6|   5|   2|   1|            385.88|\n",
      "|          1|        1|         43|        0|   5|   5|   2|   2|   5|   2|            562.68|\n",
      "|          3|        1|         21|        0|   2|   4|   1|   1|   2|   1|             458.4|\n",
      "|          3|        1|         13|        0|   5|   5|   4|   2|   4|   2|493.53999999999996|\n",
      "|          3|        1|         26|        1|   2|   5|   3|   2|   4|   1|            415.84|\n",
      "|          1|        1|         35|        1|   3|   5|   1|   2|   3|   2|             501.5|\n",
      "|          3|        2|         23|        1|   3|   4|   3|   2|   2|   1|471.94000000000005|\n",
      "|          3|        1|         15|        1|   5|   5|   3|   2|   3|   1|            406.86|\n",
      "+-----------+---------+-----------+---------+----+----+----+----+----+----+------------------+\n",
      "only showing top 20 rows\n",
      "\n"
     ]
    }
   ],
   "source": [
    "df.show()"
   ]
  },
  {
   "cell_type": "code",
   "execution_count": 156,
   "metadata": {},
   "outputs": [
    {
     "name": "stdout",
     "output_type": "stream",
     "text": [
      "+-----------+---------+-----------+---------+----+----+----+----+----+----+------------------+\n",
      "|TP_COR_RACA|TP_ESCOLA|CO_UF_PROVA|TP_LINGUA|Q001|Q002|Q003|Q004|Q006|Q024|     NU_NOTA_MEDIA|\n",
      "+-----------+---------+-----------+---------+----+----+----+----+----+----+------------------+\n",
      "|          2|        1|          4|        1|   5|   6|   1|   4|   2|   1|            558.24|\n",
      "|          3|        1|          1|        1|   3|   1|   1|   2|   1|   2|            394.62|\n",
      "|          2|        1|          1|        1|   5|   5|   2|   2|   2|   1|             414.1|\n",
      "|          3|        1|          4|        1|   5|   5|   2|   2|   2|   1|             438.1|\n",
      "|          1|        3|          4|        1|   5|   5|   2|   1|   2|   1|             576.7|\n",
      "|          3|        1|          1|        0|   7|   6|   6|   6|   2|   2|            530.58|\n",
      "|          2|        1|          1|        1|   2|   6|   1|   4|   2|   1|             645.8|\n",
      "|          1|        1|          1|        1|   2|   4|   4|   2|   2|   2|             500.4|\n",
      "|          3|        1|          4|        1|   5|   5|   2|   2|   5|   1|            605.58|\n",
      "|          3|        1|          4|        0|   3|   3|   1|   1|   3|   1|445.56000000000006|\n",
      "|          2|        1|          4|        0|   5|   5|   4|   2|   2|   2| 548.5400000000001|\n",
      "|          3|        1|          5|        1|   5|   5|   2|   4|   7|   3|            630.62|\n",
      "|          1|        1|          2|        0|   1|   6|   6|   5|   2|   1|            385.88|\n",
      "|          1|        1|          2|        0|   5|   5|   2|   2|   5|   2|            562.68|\n",
      "|          3|        1|          4|        0|   2|   4|   1|   1|   2|   1|             458.4|\n",
      "|          3|        1|          5|        0|   5|   5|   4|   2|   4|   2|493.53999999999996|\n",
      "|          3|        1|          4|        1|   2|   5|   3|   2|   4|   1|            415.84|\n",
      "|          1|        1|          1|        1|   3|   5|   1|   2|   3|   2|             501.5|\n",
      "|          3|        2|          4|        1|   3|   4|   3|   2|   2|   1|471.94000000000005|\n",
      "|          3|        1|          5|        1|   5|   5|   3|   2|   3|   1|            406.86|\n",
      "+-----------+---------+-----------+---------+----+----+----+----+----+----+------------------+\n",
      "only showing top 20 rows\n",
      "\n"
     ]
    }
   ],
   "source": [
    "# Substituindo valores da CO_UF_PROVA para valores de regiao\n",
    "# Regiao Suldeste = 1\n",
    "# Regiao Sul = 2\n",
    "# Regiao Centro-Oeste = 3\n",
    "# Regiao Nordeste = 4\n",
    "# Regiao Norte = 5\n",
    "df = df.withColumn(\"CO_UF_PROVA\", \n",
    "    when(col(\"CO_UF_PROVA\").isin(['11', '12', '13', '14', '15', '16', '17']), 5)\n",
    "    .when(col(\"CO_UF_PROVA\").isin(['21', '22', '23', '24', '25', '26', '27', '28', '29', '30']), 4)\n",
    "    .when(col(\"CO_UF_PROVA\").isin(['50', '51', '52', '53']), 3)\n",
    "    .when(col(\"CO_UF_PROVA\").isin(['41', '42', '43']), 2)\n",
    "    .when(col(\"CO_UF_PROVA\").isin(['31', '32', '33', '35']), 1)\n",
    "    # Se nenhum dos when se aplicar, mantém o valor original da coluna 'CO_UF_PROVA'\n",
    "    .otherwise(col(\"CO_UF_PROVA\"))\n",
    ")\n",
    "df.show()\n"
   ]
  },
  {
   "cell_type": "code",
   "execution_count": 157,
   "metadata": {},
   "outputs": [
    {
     "data": {
      "text/plain": [
       "DataFrame[summary: string, TP_COR_RACA: string, TP_ESCOLA: string, CO_UF_PROVA: string, TP_LINGUA: string, Q001: string, Q002: string, Q003: string, Q004: string, Q006: string, Q024: string, NU_NOTA_MEDIA: string]"
      ]
     },
     "execution_count": 157,
     "metadata": {},
     "output_type": "execute_result"
    }
   ],
   "source": [
    "df.describe()\n",
    "df = df.withColumn(\"CO_UF_PROVA\", df[\"CO_UF_PROVA\"].cast(\"int\"))\n",
    "df.describe()\n"
   ]
  },
  {
   "cell_type": "code",
   "execution_count": 158,
   "metadata": {},
   "outputs": [],
   "source": [
    "# Alterando o tipo de dado de string para int \n",
    "df = df.withColumn(\"TP_COR_RACA\", df[\"TP_COR_RACA\"].cast(\"int\"))\n",
    "df = df.withColumn(\"TP_ESCOLA\", df[\"TP_ESCOLA\"].cast(\"int\"))\n",
    "df = df.withColumn(\"TP_LINGUA\", df[\"TP_LINGUA\"].cast(\"int\"))"
   ]
  },
  {
   "cell_type": "code",
   "execution_count": 159,
   "metadata": {},
   "outputs": [
    {
     "name": "stderr",
     "output_type": "stream",
     "text": [
      "C:\\Users\\mathe\\AppData\\Local\\Packages\\PythonSoftwareFoundation.Python.3.10_qbz5n2kfra8p0\\LocalCache\\local-packages\\Python310\\site-packages\\pyspark\\sql\\pandas\\conversion.py:111: UserWarning: toPandas attempted Arrow optimization because 'spark.sql.execution.arrow.pyspark.enabled' is set to true; however, failed by the reason below:\n",
      "  PyArrow >= 4.0.0 must be installed; however, it was not found.\n",
      "Attempting non-optimization as 'spark.sql.execution.arrow.pyspark.fallback.enabled' is set to true.\n",
      "  warn(msg)\n"
     ]
    },
    {
     "data": {
      "text/plain": [
       "TP_COR_RACA        int32\n",
       "TP_ESCOLA          int32\n",
       "CO_UF_PROVA        int32\n",
       "TP_LINGUA          int32\n",
       "Q001               int32\n",
       "Q002               int32\n",
       "Q003               int32\n",
       "Q004               int32\n",
       "Q006               int32\n",
       "Q024               int32\n",
       "NU_NOTA_MEDIA    float64\n",
       "dtype: object"
      ]
     },
     "execution_count": 159,
     "metadata": {},
     "output_type": "execute_result"
    }
   ],
   "source": [
    "# Enable Arrow-based columnar data transfers\n",
    "spark.conf.set(\"spark.sql.execution.arrow.pyspark.enabled\", \"true\")\n",
    "\n",
    "# Convert the Spark DataFrame back to a pandas DataFrame using Arrow\n",
    "result_pdf = df.select(\"*\").toPandas()\n",
    "result_pdf.dtypes"
   ]
  },
  {
   "cell_type": "code",
   "execution_count": 122,
   "metadata": {},
   "outputs": [
    {
     "data": {
      "text/plain": [
       "'result_pdf = pd.get_dummies(result_pdf)\\nresult_pdf.head()'"
      ]
     },
     "execution_count": 122,
     "metadata": {},
     "output_type": "execute_result"
    }
   ],
   "source": [
    "'''result_pdf = pd.get_dummies(result_pdf)\n",
    "result_pdf.head()'''"
   ]
  },
  {
   "cell_type": "code",
   "execution_count": 123,
   "metadata": {},
   "outputs": [
    {
     "data": {
      "text/plain": [
       "'profile = ProfileReport(result_pdf, title=\"Pandas Profiling Report\")\\nprofile.to_file(\"output_q006_reload.html\")'"
      ]
     },
     "execution_count": 123,
     "metadata": {},
     "output_type": "execute_result"
    }
   ],
   "source": [
    "'''profile = ProfileReport(result_pdf, title=\"Pandas Profiling Report\")\n",
    "profile.to_file(\"output_q006_reload.html\")'''"
   ]
  },
  {
   "cell_type": "code",
   "execution_count": 124,
   "metadata": {},
   "outputs": [],
   "source": [
    "from pyspark.ml.classification import RandomForestClassifier\n",
    "from pyspark.ml.feature import VectorAssembler\n",
    "from pyspark.ml import Pipeline\n",
    "from pyspark.ml.evaluation import MulticlassClassificationEvaluator"
   ]
  },
  {
   "cell_type": "code",
   "execution_count": 140,
   "metadata": {},
   "outputs": [
    {
     "name": "stdout",
     "output_type": "stream",
     "text": [
      "+-----------+---------+-----------+---------+----+----+----+----+----+----+------------------+-------------+\n",
      "|TP_COR_RACA|TP_ESCOLA|CO_UF_PROVA|TP_LINGUA|Q001|Q002|Q003|Q004|Q006|Q024|     NU_NOTA_MEDIA|CLASSE_MEDIAS|\n",
      "+-----------+---------+-----------+---------+----+----+----+----+----+----+------------------+-------------+\n",
      "|          2|        1|          4|        1|   5|   6|   1|   4|   2|   1|            558.24|        médio|\n",
      "|          3|        1|          1|        1|   3|   1|   1|   2|   1|   2|            394.62|        baixo|\n",
      "|          2|        1|          1|        1|   5|   5|   2|   2|   2|   1|             414.1|        baixo|\n",
      "|          3|        1|          4|        1|   5|   5|   2|   2|   2|   1|             438.1|        baixo|\n",
      "|          1|        3|          4|        1|   5|   5|   2|   1|   2|   1|             576.7|        médio|\n",
      "|          3|        1|          1|        0|   7|   6|   6|   6|   2|   2|            530.58|        médio|\n",
      "|          2|        1|          1|        1|   2|   6|   1|   4|   2|   1|             645.8|         alto|\n",
      "|          1|        1|          1|        1|   2|   4|   4|   2|   2|   2|             500.4|        baixo|\n",
      "|          3|        1|          4|        1|   5|   5|   2|   2|   5|   1|            605.58|         alto|\n",
      "|          3|        1|          4|        0|   3|   3|   1|   1|   3|   1|445.56000000000006|        baixo|\n",
      "|          2|        1|          4|        0|   5|   5|   4|   2|   2|   2| 548.5400000000001|        médio|\n",
      "|          3|        1|          5|        1|   5|   5|   2|   4|   7|   3|            630.62|         alto|\n",
      "|          1|        1|          2|        0|   1|   6|   6|   5|   2|   1|            385.88|        baixo|\n",
      "|          1|        1|          2|        0|   5|   5|   2|   2|   5|   2|            562.68|        médio|\n",
      "|          3|        1|          4|        0|   2|   4|   1|   1|   2|   1|             458.4|        baixo|\n",
      "|          3|        1|          5|        0|   5|   5|   4|   2|   4|   2|493.53999999999996|        baixo|\n",
      "|          3|        1|          4|        1|   2|   5|   3|   2|   4|   1|            415.84|        baixo|\n",
      "|          1|        1|          1|        1|   3|   5|   1|   2|   3|   2|             501.5|        baixo|\n",
      "|          3|        2|          4|        1|   3|   4|   3|   2|   2|   1|471.94000000000005|        baixo|\n",
      "|          3|        1|          5|        1|   5|   5|   3|   2|   3|   1|            406.86|        baixo|\n",
      "+-----------+---------+-----------+---------+----+----+----+----+----+----+------------------+-------------+\n",
      "only showing top 20 rows\n",
      "\n"
     ]
    }
   ],
   "source": [
    "df_teste = df\n",
    "\n",
    "# Calcula os quantis aproximados para a coluna 'MEDIAS'\n",
    "limite_baixo = df_teste.stat.approxQuantile('NU_NOTA_MEDIA', [0.33], 0.01)[0]\n",
    "limite_alto = df_teste.stat.approxQuantile('NU_NOTA_MEDIA', [0.66], 0.01)[0]\n",
    "\n",
    "# Classifica cada linha em 'baixo', 'médio', 'alto' com base nos quantis calculados\n",
    "df_teste = df.withColumn(\n",
    "    'CLASSE_MEDIAS',\n",
    "    when(col('NU_NOTA_MEDIA') <= limite_baixo, 'baixo')\n",
    "    .when(col('NU_NOTA_MEDIA') <= limite_alto, 'médio')\n",
    "    .otherwise('alto')\n",
    ")\n",
    "\n",
    "# Mostra o DataFrame com a nova coluna de classificação\n",
    "df_teste.show()"
   ]
  },
  {
   "cell_type": "code",
   "execution_count": 145,
   "metadata": {},
   "outputs": [
    {
     "name": "stdout",
     "output_type": "stream",
     "text": [
      "Acurácia do modelo: 0.99\n"
     ]
    }
   ],
   "source": [
    "from pyspark.sql import SparkSession\n",
    "from pyspark.ml import Pipeline\n",
    "from pyspark.ml.feature import StringIndexer, VectorAssembler\n",
    "from pyspark.ml.classification import RandomForestClassifier\n",
    "from pyspark.ml.evaluation import MulticlassClassificationEvaluator\n",
    "\n",
    "# Inicia uma sessão Spark\n",
    "spark = SparkSession.builder.appName(\"RandomForestExample\").getOrCreate()\n",
    "\n",
    "# Lista de colunas para usar como features\n",
    "feature_cols = ['TP_COR_RACA', 'TP_ESCOLA', 'CO_UF_PROVA','TP_LINGUA', 'Q001', 'Q002', 'Q003', 'Q004', 'Q006', 'Q024', 'NU_NOTA_MEDIA']\n",
    "\n",
    "# Indexação de strings para a coluna alvo\n",
    "indexer = StringIndexer(inputCol='CLASSE_MEDIAS', outputCol='label')\n",
    "\n",
    "# Assembler para transformar as colunas de feature em um vetor único\n",
    "assembler = VectorAssembler(inputCols=feature_cols, outputCol='features')\n",
    "\n",
    "# Criação do modelo RandomForestClassifier\n",
    "rf = RandomForestClassifier(labelCol='label', featuresCol='features', numTrees=100, maxDepth=10, seed=42)\n",
    "\n",
    "# Criação do Pipeline\n",
    "pipeline = Pipeline(stages=[indexer, assembler, rf])\n",
    "\n",
    "# Dividindo os dados em conjunto de treino e teste\n",
    "(train_data, test_data) = df_teste.randomSplit([0.8, 0.2], seed=42)\n",
    "\n",
    "# Treinando o modelo\n",
    "model = pipeline.fit(train_data)\n",
    "\n",
    "# Fazendo previsões no conjunto de teste\n",
    "predictions = model.transform(test_data)\n",
    "\n",
    "# Avaliando o modelo\n",
    "evaluator = MulticlassClassificationEvaluator(labelCol='label', predictionCol='prediction', metricName='accuracy')\n",
    "accuracy = evaluator.evaluate(predictions)\n",
    "print(f'Acurácia do modelo: {accuracy:.2f}')\n",
    "\n",
    "# Encerra a sessão Spark\n",
    "spark.stop()\n"
   ]
  },
  {
   "cell_type": "code",
   "execution_count": 169,
   "metadata": {},
   "outputs": [
    {
     "data": {
      "text/html": [
       "<div>\n",
       "<style scoped>\n",
       "    .dataframe tbody tr th:only-of-type {\n",
       "        vertical-align: middle;\n",
       "    }\n",
       "\n",
       "    .dataframe tbody tr th {\n",
       "        vertical-align: top;\n",
       "    }\n",
       "\n",
       "    .dataframe thead th {\n",
       "        text-align: right;\n",
       "    }\n",
       "</style>\n",
       "<table border=\"1\" class=\"dataframe\">\n",
       "  <thead>\n",
       "    <tr style=\"text-align: right;\">\n",
       "      <th></th>\n",
       "      <th>TP_COR_RACA</th>\n",
       "      <th>TP_ESCOLA</th>\n",
       "      <th>CO_UF_PROVA</th>\n",
       "      <th>TP_LINGUA</th>\n",
       "      <th>Q001</th>\n",
       "      <th>Q002</th>\n",
       "      <th>Q003</th>\n",
       "      <th>Q004</th>\n",
       "      <th>Q006</th>\n",
       "      <th>Q024</th>\n",
       "      <th>NU_NOTA_MEDIA</th>\n",
       "      <th>CLASSE_MEDIAS</th>\n",
       "    </tr>\n",
       "  </thead>\n",
       "  <tbody>\n",
       "    <tr>\n",
       "      <th>0</th>\n",
       "      <td>2</td>\n",
       "      <td>1</td>\n",
       "      <td>4</td>\n",
       "      <td>1</td>\n",
       "      <td>5</td>\n",
       "      <td>6</td>\n",
       "      <td>1</td>\n",
       "      <td>4</td>\n",
       "      <td>2</td>\n",
       "      <td>1</td>\n",
       "      <td>558.24</td>\n",
       "      <td>médio</td>\n",
       "    </tr>\n",
       "    <tr>\n",
       "      <th>1</th>\n",
       "      <td>3</td>\n",
       "      <td>1</td>\n",
       "      <td>1</td>\n",
       "      <td>1</td>\n",
       "      <td>3</td>\n",
       "      <td>1</td>\n",
       "      <td>1</td>\n",
       "      <td>2</td>\n",
       "      <td>1</td>\n",
       "      <td>2</td>\n",
       "      <td>394.62</td>\n",
       "      <td>baixo</td>\n",
       "    </tr>\n",
       "    <tr>\n",
       "      <th>2</th>\n",
       "      <td>2</td>\n",
       "      <td>1</td>\n",
       "      <td>1</td>\n",
       "      <td>1</td>\n",
       "      <td>5</td>\n",
       "      <td>5</td>\n",
       "      <td>2</td>\n",
       "      <td>2</td>\n",
       "      <td>2</td>\n",
       "      <td>1</td>\n",
       "      <td>414.10</td>\n",
       "      <td>baixo</td>\n",
       "    </tr>\n",
       "    <tr>\n",
       "      <th>3</th>\n",
       "      <td>3</td>\n",
       "      <td>1</td>\n",
       "      <td>4</td>\n",
       "      <td>1</td>\n",
       "      <td>5</td>\n",
       "      <td>5</td>\n",
       "      <td>2</td>\n",
       "      <td>2</td>\n",
       "      <td>2</td>\n",
       "      <td>1</td>\n",
       "      <td>438.10</td>\n",
       "      <td>baixo</td>\n",
       "    </tr>\n",
       "    <tr>\n",
       "      <th>4</th>\n",
       "      <td>1</td>\n",
       "      <td>3</td>\n",
       "      <td>4</td>\n",
       "      <td>1</td>\n",
       "      <td>5</td>\n",
       "      <td>5</td>\n",
       "      <td>2</td>\n",
       "      <td>1</td>\n",
       "      <td>2</td>\n",
       "      <td>1</td>\n",
       "      <td>576.70</td>\n",
       "      <td>médio</td>\n",
       "    </tr>\n",
       "  </tbody>\n",
       "</table>\n",
       "</div>"
      ],
      "text/plain": [
       "   TP_COR_RACA  TP_ESCOLA  CO_UF_PROVA  TP_LINGUA  Q001  Q002  Q003  Q004  \\\n",
       "0            2          1            4          1     5     6     1     4   \n",
       "1            3          1            1          1     3     1     1     2   \n",
       "2            2          1            1          1     5     5     2     2   \n",
       "3            3          1            4          1     5     5     2     2   \n",
       "4            1          3            4          1     5     5     2     1   \n",
       "\n",
       "   Q006  Q024  NU_NOTA_MEDIA CLASSE_MEDIAS  \n",
       "0     2     1         558.24         médio  \n",
       "1     1     2         394.62         baixo  \n",
       "2     2     1         414.10         baixo  \n",
       "3     2     1         438.10         baixo  \n",
       "4     2     1         576.70         médio  "
      ]
     },
     "execution_count": 169,
     "metadata": {},
     "output_type": "execute_result"
    }
   ],
   "source": [
    "result_pdf.head()"
   ]
  },
  {
   "cell_type": "code",
   "execution_count": 173,
   "metadata": {},
   "outputs": [
    {
     "ename": "KeyError",
     "evalue": "'NU_NOTA_MEDIA'",
     "output_type": "error",
     "traceback": [
      "\u001b[1;31m---------------------------------------------------------------------------\u001b[0m",
      "\u001b[1;31mKeyError\u001b[0m                                  Traceback (most recent call last)",
      "File \u001b[1;32m~\\AppData\\Local\\Packages\\PythonSoftwareFoundation.Python.3.10_qbz5n2kfra8p0\\LocalCache\\local-packages\\Python310\\site-packages\\pandas\\core\\indexes\\base.py:3791\u001b[0m, in \u001b[0;36mIndex.get_loc\u001b[1;34m(self, key)\u001b[0m\n\u001b[0;32m   3790\u001b[0m \u001b[38;5;28;01mtry\u001b[39;00m:\n\u001b[1;32m-> 3791\u001b[0m     \u001b[38;5;28;01mreturn\u001b[39;00m \u001b[38;5;28;43mself\u001b[39;49m\u001b[38;5;241;43m.\u001b[39;49m\u001b[43m_engine\u001b[49m\u001b[38;5;241;43m.\u001b[39;49m\u001b[43mget_loc\u001b[49m\u001b[43m(\u001b[49m\u001b[43mcasted_key\u001b[49m\u001b[43m)\u001b[49m\n\u001b[0;32m   3792\u001b[0m \u001b[38;5;28;01mexcept\u001b[39;00m \u001b[38;5;167;01mKeyError\u001b[39;00m \u001b[38;5;28;01mas\u001b[39;00m err:\n",
      "File \u001b[1;32mindex.pyx:152\u001b[0m, in \u001b[0;36mpandas._libs.index.IndexEngine.get_loc\u001b[1;34m()\u001b[0m\n",
      "File \u001b[1;32mindex.pyx:181\u001b[0m, in \u001b[0;36mpandas._libs.index.IndexEngine.get_loc\u001b[1;34m()\u001b[0m\n",
      "File \u001b[1;32mpandas\\_libs\\hashtable_class_helper.pxi:7080\u001b[0m, in \u001b[0;36mpandas._libs.hashtable.PyObjectHashTable.get_item\u001b[1;34m()\u001b[0m\n",
      "File \u001b[1;32mpandas\\_libs\\hashtable_class_helper.pxi:7088\u001b[0m, in \u001b[0;36mpandas._libs.hashtable.PyObjectHashTable.get_item\u001b[1;34m()\u001b[0m\n",
      "\u001b[1;31mKeyError\u001b[0m: 'NU_NOTA_MEDIA'",
      "\nThe above exception was the direct cause of the following exception:\n",
      "\u001b[1;31mKeyError\u001b[0m                                  Traceback (most recent call last)",
      "Cell \u001b[1;32mIn[173], line 7\u001b[0m\n\u001b[0;32m      4\u001b[0m \u001b[38;5;28;01mfrom\u001b[39;00m \u001b[38;5;21;01msklearn\u001b[39;00m\u001b[38;5;21;01m.\u001b[39;00m\u001b[38;5;21;01mmetrics\u001b[39;00m \u001b[38;5;28;01mimport\u001b[39;00m accuracy_score\n\u001b[0;32m      6\u001b[0m \u001b[38;5;66;03m# Cálculo da média e classificação\u001b[39;00m\n\u001b[1;32m----> 7\u001b[0m result_pdf[\u001b[38;5;124m'\u001b[39m\u001b[38;5;124mCLASSE_MEDIAS\u001b[39m\u001b[38;5;124m'\u001b[39m] \u001b[38;5;241m=\u001b[39m pd\u001b[38;5;241m.\u001b[39mcut(\u001b[43mresult_pdf\u001b[49m\u001b[43m[\u001b[49m\u001b[38;5;124;43m'\u001b[39;49m\u001b[38;5;124;43mNU_NOTA_MEDIA\u001b[39;49m\u001b[38;5;124;43m'\u001b[39;49m\u001b[43m]\u001b[49m, bins\u001b[38;5;241m=\u001b[39m[\u001b[38;5;241m0\u001b[39m, \u001b[38;5;241m500\u001b[39m, \u001b[38;5;241m700\u001b[39m, \u001b[38;5;28mfloat\u001b[39m(\u001b[38;5;124m'\u001b[39m\u001b[38;5;124minf\u001b[39m\u001b[38;5;124m'\u001b[39m)], labels\u001b[38;5;241m=\u001b[39m[\u001b[38;5;124m'\u001b[39m\u001b[38;5;124mbaixo\u001b[39m\u001b[38;5;124m'\u001b[39m, \u001b[38;5;124m'\u001b[39m\u001b[38;5;124mmédio\u001b[39m\u001b[38;5;124m'\u001b[39m, \u001b[38;5;124m'\u001b[39m\u001b[38;5;124malto\u001b[39m\u001b[38;5;124m'\u001b[39m])\n\u001b[0;32m      8\u001b[0m result_pdf\u001b[38;5;241m.\u001b[39mdrop(\u001b[38;5;124m'\u001b[39m\u001b[38;5;124mNU_NOTA_MEDIA\u001b[39m\u001b[38;5;124m'\u001b[39m, axis\u001b[38;5;241m=\u001b[39m\u001b[38;5;241m1\u001b[39m, inplace\u001b[38;5;241m=\u001b[39m\u001b[38;5;28;01mTrue\u001b[39;00m)\n\u001b[0;32m      9\u001b[0m \u001b[38;5;66;03m# Continue com o processamento após essa correção...\u001b[39;00m\n",
      "File \u001b[1;32m~\\AppData\\Local\\Packages\\PythonSoftwareFoundation.Python.3.10_qbz5n2kfra8p0\\LocalCache\\local-packages\\Python310\\site-packages\\pandas\\core\\frame.py:3893\u001b[0m, in \u001b[0;36mDataFrame.__getitem__\u001b[1;34m(self, key)\u001b[0m\n\u001b[0;32m   3891\u001b[0m \u001b[38;5;28;01mif\u001b[39;00m \u001b[38;5;28mself\u001b[39m\u001b[38;5;241m.\u001b[39mcolumns\u001b[38;5;241m.\u001b[39mnlevels \u001b[38;5;241m>\u001b[39m \u001b[38;5;241m1\u001b[39m:\n\u001b[0;32m   3892\u001b[0m     \u001b[38;5;28;01mreturn\u001b[39;00m \u001b[38;5;28mself\u001b[39m\u001b[38;5;241m.\u001b[39m_getitem_multilevel(key)\n\u001b[1;32m-> 3893\u001b[0m indexer \u001b[38;5;241m=\u001b[39m \u001b[38;5;28;43mself\u001b[39;49m\u001b[38;5;241;43m.\u001b[39;49m\u001b[43mcolumns\u001b[49m\u001b[38;5;241;43m.\u001b[39;49m\u001b[43mget_loc\u001b[49m\u001b[43m(\u001b[49m\u001b[43mkey\u001b[49m\u001b[43m)\u001b[49m\n\u001b[0;32m   3894\u001b[0m \u001b[38;5;28;01mif\u001b[39;00m is_integer(indexer):\n\u001b[0;32m   3895\u001b[0m     indexer \u001b[38;5;241m=\u001b[39m [indexer]\n",
      "File \u001b[1;32m~\\AppData\\Local\\Packages\\PythonSoftwareFoundation.Python.3.10_qbz5n2kfra8p0\\LocalCache\\local-packages\\Python310\\site-packages\\pandas\\core\\indexes\\base.py:3798\u001b[0m, in \u001b[0;36mIndex.get_loc\u001b[1;34m(self, key)\u001b[0m\n\u001b[0;32m   3793\u001b[0m     \u001b[38;5;28;01mif\u001b[39;00m \u001b[38;5;28misinstance\u001b[39m(casted_key, \u001b[38;5;28mslice\u001b[39m) \u001b[38;5;129;01mor\u001b[39;00m (\n\u001b[0;32m   3794\u001b[0m         \u001b[38;5;28misinstance\u001b[39m(casted_key, abc\u001b[38;5;241m.\u001b[39mIterable)\n\u001b[0;32m   3795\u001b[0m         \u001b[38;5;129;01mand\u001b[39;00m \u001b[38;5;28many\u001b[39m(\u001b[38;5;28misinstance\u001b[39m(x, \u001b[38;5;28mslice\u001b[39m) \u001b[38;5;28;01mfor\u001b[39;00m x \u001b[38;5;129;01min\u001b[39;00m casted_key)\n\u001b[0;32m   3796\u001b[0m     ):\n\u001b[0;32m   3797\u001b[0m         \u001b[38;5;28;01mraise\u001b[39;00m InvalidIndexError(key)\n\u001b[1;32m-> 3798\u001b[0m     \u001b[38;5;28;01mraise\u001b[39;00m \u001b[38;5;167;01mKeyError\u001b[39;00m(key) \u001b[38;5;28;01mfrom\u001b[39;00m \u001b[38;5;21;01merr\u001b[39;00m\n\u001b[0;32m   3799\u001b[0m \u001b[38;5;28;01mexcept\u001b[39;00m \u001b[38;5;167;01mTypeError\u001b[39;00m:\n\u001b[0;32m   3800\u001b[0m     \u001b[38;5;66;03m# If we have a listlike key, _check_indexing_error will raise\u001b[39;00m\n\u001b[0;32m   3801\u001b[0m     \u001b[38;5;66;03m#  InvalidIndexError. Otherwise we fall through and re-raise\u001b[39;00m\n\u001b[0;32m   3802\u001b[0m     \u001b[38;5;66;03m#  the TypeError.\u001b[39;00m\n\u001b[0;32m   3803\u001b[0m     \u001b[38;5;28mself\u001b[39m\u001b[38;5;241m.\u001b[39m_check_indexing_error(key)\n",
      "\u001b[1;31mKeyError\u001b[0m: 'NU_NOTA_MEDIA'"
     ]
    }
   ],
   "source": [
    "import pandas as pd\n",
    "from sklearn.ensemble import RandomForestClassifier\n",
    "from sklearn.model_selection import train_test_split\n",
    "from sklearn.metrics import accuracy_score\n",
    "\n",
    "# Cálculo da média e classificação\n",
    "result_pdf['CLASSE_MEDIAS'] = pd.cut(result_pdf['NU_NOTA_MEDIA'], bins=[0, 500, 700, float('inf')], labels=['baixo', 'médio', 'alto'])\n",
    "result_pdf.drop('NU_NOTA_MEDIA', axis=1, inplace=True)\n",
    "# Continue com o processamento após essa correção...\n",
    "print(result_pdf.head())\n",
    "result_pdf = result_pdf.dropna()\n",
    "print(result_pdf['CLASSE_MEDIAS'].value_counts())\n",
    "# Preparação dos dados para modelagem\n",
    "X = result_pdf.drop('CLASSE_MEDIAS', axis=1)\n",
    "y = result_pdf['CLASSE_MEDIAS']\n",
    "X_train, X_test, y_train, y_test = train_test_split(X, y, test_size=0.2, random_state=42)\n",
    "\n",
    "# Avaliação do\n",
    "# Modelagem usando Random Forest\n",
    "model = RandomForestClassifier(n_estimators=100, random_state=42, class_weight='balanced')\n",
    "\n",
    "# Avaliação do\n",
    "model.fit(X_train, y_train)\n",
    "\n",
    "# Avaliação do modelo\n",
    "y_pred = model.predict(X_test)\n",
    "\n",
    "# Avaliação do\n",
    "accuracy = accuracy_score(y_test, y_pred)\n",
    "print(f'Acurácia do modelo: {accuracy:.2f}')"
   ]
  },
  {
   "cell_type": "code",
   "execution_count": 172,
   "metadata": {},
   "outputs": [
    {
     "name": "stderr",
     "output_type": "stream",
     "text": [
      "C:\\Users\\mathe\\AppData\\Local\\Temp\\ipykernel_63024\\3856552612.py:19: UserWarning: FigureCanvasAgg is non-interactive, and thus cannot be shown\n",
      "  plt.show()\n"
     ]
    }
   ],
   "source": [
    "import matplotlib.pyplot as plt\n",
    "import seaborn as sns\n",
    "from sklearn.metrics import confusion_matrix\n",
    "from sklearn.metrics import ConfusionMatrixDisplay\n",
    "\n",
    "y_pred = model.predict(X_test)\n",
    "cm = confusion_matrix(y_test, y_pred)\n",
    "\n",
    "# Visualização da matriz de confusão\n",
    "fig, ax = plt.subplots(figsize=(8, 8))  # Ajuste o tamanho conforme necessário\n",
    "disp = ConfusionMatrixDisplay(confusion_matrix=cm, display_labels=model.classes_)\n",
    "disp.plot(cmap=plt.cm.Blues, ax=ax)\n",
    "plt.title('Matriz de Confusão')\n",
    "plt.xlabel('Previsões')\n",
    "plt.ylabel('Verdadeiros')\n",
    "\n",
    "# Salve a imagem como png\n",
    "plt.savefig('confusion_matrix.png')\n",
    "plt.show()"
   ]
  }
 ],
 "metadata": {
  "kernelspec": {
   "display_name": "Python 3",
   "language": "python",
   "name": "python3"
  },
  "language_info": {
   "codemirror_mode": {
    "name": "ipython",
    "version": 3
   },
   "file_extension": ".py",
   "mimetype": "text/x-python",
   "name": "python",
   "nbconvert_exporter": "python",
   "pygments_lexer": "ipython3",
   "version": "3.10.11"
  }
 },
 "nbformat": 4,
 "nbformat_minor": 2
}
