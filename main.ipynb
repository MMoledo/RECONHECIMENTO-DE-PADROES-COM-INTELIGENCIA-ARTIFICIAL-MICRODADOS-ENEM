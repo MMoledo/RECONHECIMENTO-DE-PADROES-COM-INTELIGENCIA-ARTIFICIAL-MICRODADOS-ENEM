{
 "cells": [
  {
   "cell_type": "code",
   "execution_count": 1,
   "metadata": {},
   "outputs": [],
   "source": [
    "import pandas as pd"
   ]
  },
  {
   "cell_type": "code",
   "execution_count": 5,
   "metadata": {},
   "outputs": [],
   "source": [
    "from pyspark.sql import SparkSession\n",
    "\n",
    "spark = SparkSession.builder \\\n",
    "    .appName(\"Meu App CSV Grande\") \\\n",
    "    .getOrCreate()\n"
   ]
  },
  {
   "cell_type": "code",
   "execution_count": 11,
   "metadata": {},
   "outputs": [
    {
     "name": "stdout",
     "output_type": "stream",
     "text": [
      "+------------+------+---------------+-------+---------------+-----------+----------------+---------------+---------------+---------+---------+------------+----------------+----------------+---------+---------+----------------------+------------------+---------------+------------------+--------------------+-----------+-----------+--------------+--------------+--------------+--------------+-----------+-----------+-----------+-----------+----------+----------+----------+----------+--------------------+--------------------+--------------------+--------------------+---------+--------------------+--------------------+--------------------+--------------------+-----------------+-------------+-------------+-------------+-------------+-------------+---------------+----+----+----+----+----+----+----+----+----+----+----+----+----+----+----+----+----+----+----+----+----+----+----+----+----+\n",
      "|NU_INSCRICAO|NU_ANO|TP_FAIXA_ETARIA|TP_SEXO|TP_ESTADO_CIVIL|TP_COR_RACA|TP_NACIONALIDADE|TP_ST_CONCLUSAO|TP_ANO_CONCLUIU|TP_ESCOLA|TP_ENSINO|IN_TREINEIRO|CO_MUNICIPIO_ESC|NO_MUNICIPIO_ESC|CO_UF_ESC|SG_UF_ESC|TP_DEPENDENCIA_ADM_ESC|TP_LOCALIZACAO_ESC|TP_SIT_FUNC_ESC|CO_MUNICIPIO_PROVA|  NO_MUNICIPIO_PROVA|CO_UF_PROVA|SG_UF_PROVA|TP_PRESENCA_CN|TP_PRESENCA_CH|TP_PRESENCA_LC|TP_PRESENCA_MT|CO_PROVA_CN|CO_PROVA_CH|CO_PROVA_LC|CO_PROVA_MT|NU_NOTA_CN|NU_NOTA_CH|NU_NOTA_LC|NU_NOTA_MT|     TX_RESPOSTAS_CN|     TX_RESPOSTAS_CH|     TX_RESPOSTAS_LC|     TX_RESPOSTAS_MT|TP_LINGUA|      TX_GABARITO_CN|      TX_GABARITO_CH|      TX_GABARITO_LC|      TX_GABARITO_MT|TP_STATUS_REDACAO|NU_NOTA_COMP1|NU_NOTA_COMP2|NU_NOTA_COMP3|NU_NOTA_COMP4|NU_NOTA_COMP5|NU_NOTA_REDACAO|Q001|Q002|Q003|Q004|Q005|Q006|Q007|Q008|Q009|Q010|Q011|Q012|Q013|Q014|Q015|Q016|Q017|Q018|Q019|Q020|Q021|Q022|Q023|Q024|Q025|\n",
      "+------------+------+---------------+-------+---------------+-----------+----------------+---------------+---------------+---------+---------+------------+----------------+----------------+---------+---------+----------------------+------------------+---------------+------------------+--------------------+-----------+-----------+--------------+--------------+--------------+--------------+-----------+-----------+-----------+-----------+----------+----------+----------+----------+--------------------+--------------------+--------------------+--------------------+---------+--------------------+--------------------+--------------------+--------------------+-----------------+-------------+-------------+-------------+-------------+-------------+---------------+----+----+----+----+----+----+----+----+----+----+----+----+----+----+----+----+----+----+----+----+----+----+----+----+----+\n",
      "|210057943671|  2022|             14|      M|              2|          2|               1|              1|              2|        1|     NULL|           0|            NULL|            NULL|     NULL|     NULL|                  NULL|              NULL|           NULL|           5300108|            Bras�lia|         53|         DF|             0|             0|             0|             0|       NULL|       NULL|       NULL|       NULL|      NULL|      NULL|      NULL|      NULL|                NULL|                NULL|                NULL|                NULL|        0|                NULL|                NULL|                NULL|                NULL|             NULL|         NULL|         NULL|         NULL|         NULL|         NULL|           NULL|   A|   A|   A|   B|   3|   B|   B|   B|   B|   B|   B|   B|   A|   B|   B|   B|   A|   A|   A|   A|   A|   A|   A|   A|   A|\n",
      "|210057516120|  2022|             14|      M|              2|          1|               1|              1|             16|        1|     NULL|           0|            NULL|            NULL|     NULL|     NULL|                  NULL|              NULL|           NULL|           5300108|            Bras�lia|         53|         DF|             0|             0|             0|             0|       NULL|       NULL|       NULL|       NULL|      NULL|      NULL|      NULL|      NULL|                NULL|                NULL|                NULL|                NULL|        0|                NULL|                NULL|                NULL|                NULL|             NULL|         NULL|         NULL|         NULL|         NULL|         NULL|           NULL|   D|   D|   E|   E|   3|   Q|   D|   E|   E|   E|   E|   E|   E|   E|   E|   E|   E|   B|   E|   B|   B|   E|   B|   E|   B|\n",
      "|210057280536|  2022|              5|      F|              1|          2|               1|              1|              2|        1|     NULL|           0|            NULL|            NULL|     NULL|     NULL|                  NULL|              NULL|           NULL|           2925758|Presidente Tancre...|         29|         BA|             1|             1|             1|             1|       1087|       1056|       1066|       1078|     421.1|       546|     498.8|     565.3|DCDCEBADDABEDBCBE...|DBDABCADADECACBDC...|ABEABADCCADCAAAAC...|BDEBACECBCAEBABED...|        1|DDECDBEACCAEBEAEB...|ECBABCDDAAECBCBEC...|DECDBDCEAADDBCABE...|BEEDAEABDDCEBDBAA...|                1|          140|          200|          120|          140|          160|            760|   E|   F|   A|   D|   2|   B|   A|   B|   C|   A|   A|   B|   B|   A|   A|   A|   A|   A|   A|   A|   A|   C|   A|   A|   B|\n",
      "|210055724397|  2022|              6|      M|              1|          3|               1|              1|              2|        1|     NULL|           0|            NULL|            NULL|     NULL|     NULL|                  NULL|              NULL|           NULL|           3201308|           Cariacica|         32|         ES|             1|             1|             1|             1|       1088|       1058|       1067|       1077|     490.7|     388.6|     357.8|       416|BACBBABBCAABCABBC...|BBCAACACDCABCBACC...|ABACCCCBCBAADABBB...|BBBACCBABABBBBACD...|        1|DDCBBCCDDAADBAABE...|CEDAAADBAECBCDDAD...|CDBEDACDEACAABDBD...|CCCCBXCBABECBEABD...|                1|          120|           40|           40|          100|           20|            320|   C|   A|   A|   B|   3|   A|   A|   C|   D|   A|   A|   B|   A|   B|   A|   B|   A|   A|   C|   A|   A|   C|   B|   B|   B|\n",
      "|210055097896|  2022|              4|      M|              0|          3|               1|              1|              1|        1|     NULL|           0|            NULL|            NULL|     NULL|     NULL|                  NULL|              NULL|           NULL|           1506203|         Salin�polis|         15|         PA|             0|             0|             0|             0|       NULL|       NULL|       NULL|       NULL|      NULL|      NULL|      NULL|      NULL|                NULL|                NULL|                NULL|                NULL|        0|                NULL|                NULL|                NULL|                NULL|             NULL|         NULL|         NULL|         NULL|         NULL|         NULL|           NULL|   D|   B|   A|   B|   2|   B|   A|   B|   B|   A|   A|   B|   A|   A|   A|   A|   A|   A|   A|   A|   A|   B|   A|   A|   A|\n",
      "|210057850231|  2022|              5|      F|              1|          3|               1|              1|              2|        1|     NULL|           0|            NULL|            NULL|     NULL|     NULL|                  NULL|              NULL|           NULL|           3304557|      Rio de Janeiro|         33|         RJ|             0|             0|             0|             0|       NULL|       NULL|       NULL|       NULL|      NULL|      NULL|      NULL|      NULL|                NULL|                NULL|                NULL|                NULL|        1|                NULL|                NULL|                NULL|                NULL|             NULL|         NULL|         NULL|         NULL|         NULL|         NULL|           NULL|   E|   C|   B|   B|   4|   C|   A|   C|   C|   A|   A|   B|   B|   B|   A|   B|   A|   A|   C|   A|   B|   D|   A|   A|   B|\n",
      "|210056305481|  2022|              4|      M|              1|          2|               1|              1|              2|        1|     NULL|           0|            NULL|            NULL|     NULL|     NULL|                  NULL|              NULL|           NULL|           2611606|              Recife|         26|         PE|             0|             0|             0|             0|       NULL|       NULL|       NULL|       NULL|      NULL|      NULL|      NULL|      NULL|                NULL|                NULL|                NULL|                NULL|        0|                NULL|                NULL|                NULL|                NULL|             NULL|         NULL|         NULL|         NULL|         NULL|         NULL|           NULL|   B|   B|   B|   B|   3|   B|   A|   B|   D|   A|   A|   B|   A|   A|   A|   A|   A|   A|   C|   A|   A|   C|   A|   A|   B|\n",
      "|210055778089|  2022|              6|      F|              1|          2|               1|              1|              0|        1|     NULL|           0|            NULL|            NULL|     NULL|     NULL|                  NULL|              NULL|           NULL|           3304904|         S�o Gon�alo|         33|         RJ|             1|             1|             1|             1|       1086|       1055|       1065|       1076|     398.1|     427.3|     400.2|     404.9|CBCCDBCACACABBDAE...|BABACCABCBADEABDD...|DACECBAEAABBEAACD...|DBCCABCCBCEEBCECB...|        1|EACDDEBEACCCDABCE...|DEABEEDAEBAAECBEC...|DCBDEEDCAAEAAACAB...|DBAAACEBEDAECCBEC...|                1|          100|          120|           80|          100|           40|            440|   E|   E|   B|   B|   5|   B|   A|   B|   C|   B|   A|   C|   B|   A|   A|   B|   A|   A|   C|   A|   A|   E|   A|   A|   B|\n",
      "|210057252239|  2022|              8|      F|              1|          3|               1|              1|              0|        1|     NULL|           0|            NULL|            NULL|     NULL|     NULL|                  NULL|              NULL|           NULL|           2901007|            Amargosa|         29|         BA|             0|             0|             0|             0|       NULL|       NULL|       NULL|       NULL|      NULL|      NULL|      NULL|      NULL|                NULL|                NULL|                NULL|                NULL|        1|                NULL|                NULL|                NULL|                NULL|             NULL|         NULL|         NULL|         NULL|         NULL|         NULL|           NULL|   A|   D|   A|   A|   5|   B|   A|   B|   C|   A|   A|   B|   A|   A|   A|   A|   A|   A|   B|   A|   A|   B|   A|   A|   B|\n",
      "|210055461467|  2022|              4|      F|              1|          3|               1|              1|              1|        1|     NULL|           0|            NULL|            NULL|     NULL|     NULL|                  NULL|              NULL|           NULL|           2601201|           Arcoverde|         26|         PE|             1|             1|             1|             1|       1087|       1056|       1066|       1078|     467.5|       461|     466.7|     435.3|ACEAACADAEBADDCCA...|EAAABEADCDDCEAACD...|ECEABCBECEDACADAB...|BEBCCCABABCCDCCCB...|        1|DDECDBEACCAEBEAEB...|ECBABCDDAAECBCBEC...|DECDBDCEAADDBCABE...|BEEDAEABDDCEBDBAA...|                1|           80|           80|           80|           80|           40|            360|   E|   E|   B|   B|   2|   B|   A|   B|   B|   A|   A|   B|   A|   A|   A|   A|   A|   A|   B|   A|   A|   B|   A|   A|   B|\n",
      "|210055665589|  2022|              4|      F|              1|          3|               1|              1|              2|        1|     NULL|           0|            NULL|            NULL|     NULL|     NULL|                  NULL|              NULL|           NULL|           2510808|               Patos|         25|         PB|             0|             0|             0|             0|       NULL|       NULL|       NULL|       NULL|      NULL|      NULL|      NULL|      NULL|                NULL|                NULL|                NULL|                NULL|        1|                NULL|                NULL|                NULL|                NULL|             NULL|         NULL|         NULL|         NULL|         NULL|         NULL|           NULL|   E|   B|   A|   A|   5|   A|   A|   B|   C|   A|   A|   B|   A|   A|   A|   A|   A|   A|   B|   A|   A|   B|   A|   A|   B|\n",
      "|210054972570|  2022|              2|      F|              1|          1|               1|              2|              0|        3|        1|           0|            NULL|            NULL|     NULL|     NULL|                  NULL|              NULL|           NULL|           2804508|Nossa Senhora da ...|         28|         SE|             1|             1|             1|             1|       1086|       1055|       1065|       1076|     458.7|     539.8|     488.2|     456.8|DDDDDBCDDDBDDADDD...|AEAADEDEDDADDDDED...|EABAAEAAAAAAAAEAA...|DDDDDCDEEDDCCDDDD...|        1|EACDDEBEACCCDABCE...|DEABEEDAEBAAECBEC...|DCBDEEDCAAEAAACAB...|DBAAACEBEDAECCBEC...|                1|          160|          200|          180|          200|          200|            940|   E|   E|   B|   A|   4|   B|   A|   B|   C|   A|   B|   B|   A|   A|   A|   A|   A|   A|   B|   A|   A|   C|   A|   A|   B|\n",
      "|210055449344|  2022|              4|      M|              1|          2|               1|              1|              1|        1|     NULL|           0|            NULL|            NULL|     NULL|     NULL|                  NULL|              NULL|           NULL|           2927408|            Salvador|         29|         BA|             0|             0|             0|             0|       NULL|       NULL|       NULL|       NULL|      NULL|      NULL|      NULL|      NULL|                NULL|                NULL|                NULL|                NULL|        1|                NULL|                NULL|                NULL|                NULL|             NULL|         NULL|         NULL|         NULL|         NULL|         NULL|           NULL|   D|   B|   F|   A|   2|   B|   A|   B|   B|   A|   A|   B|   A|   A|   A|   A|   A|   A|   B|   A|   A|   B|   A|   B|   B|\n",
      "|210057944037|  2022|              6|      F|              1|          3|               1|              1|              0|        1|     NULL|           0|            NULL|            NULL|     NULL|     NULL|                  NULL|              NULL|           NULL|           3550308|           S�o Paulo|         35|         SP|             0|             0|             0|             0|       NULL|       NULL|       NULL|       NULL|      NULL|      NULL|      NULL|      NULL|                NULL|                NULL|                NULL|                NULL|        1|                NULL|                NULL|                NULL|                NULL|             NULL|         NULL|         NULL|         NULL|         NULL|         NULL|           NULL|   C|   E|   C|   D|   4|   C|   A|   B|   B|   A|   A|   B|   A|   A|   A|   B|   A|   A|   B|   A|   A|   D|   A|   A|   B|\n",
      "|210054861834|  2022|              7|      M|              1|          2|               2|              1|              3|        1|     NULL|           0|            NULL|            NULL|     NULL|     NULL|                  NULL|              NULL|           NULL|           5103403|              Cuiab�|         51|         MT|             0|             0|             0|             0|       NULL|       NULL|       NULL|       NULL|      NULL|      NULL|      NULL|      NULL|                NULL|                NULL|                NULL|                NULL|        1|                NULL|                NULL|                NULL|                NULL|             NULL|         NULL|         NULL|         NULL|         NULL|         NULL|           NULL|   E|   E|   B|   B|   3|   C|   A|   B|   C|   A|   B|   B|   A|   B|   B|   B|   A|   A|   B|   A|   B|   C|   A|   B|   B|\n",
      "|210055201589|  2022|              8|      F|              1|          3|               1|              2|              0|        2|        1|           0|         2802106|        Est�ncia|       28|       SE|                     2|                 1|              1|           2802106|            Est�ncia|         28|         SE|             0|             0|             0|             0|       NULL|       NULL|       NULL|       NULL|      NULL|      NULL|      NULL|      NULL|                NULL|                NULL|                NULL|                NULL|        1|                NULL|                NULL|                NULL|                NULL|             NULL|         NULL|         NULL|         NULL|         NULL|         NULL|           NULL|   B|   C|   B|   B|   2|   B|   A|   B|   B|   A|   A|   B|   A|   A|   A|   A|   A|   A|   B|   A|   A|   C|   A|   A|   B|\n",
      "|210056844882|  2022|              5|      F|              1|          2|               1|              1|              0|        1|     NULL|           0|            NULL|            NULL|     NULL|     NULL|                  NULL|              NULL|           NULL|           2910057|        Dias d'�vila|         29|         BA|             0|             0|             0|             0|       NULL|       NULL|       NULL|       NULL|      NULL|      NULL|      NULL|      NULL|                NULL|                NULL|                NULL|                NULL|        0|                NULL|                NULL|                NULL|                NULL|             NULL|         NULL|         NULL|         NULL|         NULL|         NULL|           NULL|   A|   D|   B|   B|   4|   B|   A|   B|   C|   A|   A|   B|   A|   A|   A|   A|   A|   A|   B|   A|   A|   B|   A|   A|   B|\n",
      "|210056065100|  2022|              2|      F|              1|          3|               1|              3|              0|        1|     NULL|           1|            NULL|            NULL|     NULL|     NULL|                  NULL|              NULL|           NULL|           3510500|       Caraguatatuba|         35|         SP|             1|             1|             1|             1|       1086|       1055|       1065|       1076|     396.8|     528.7|     551.4|       536|ABEACDCACEADBDBDB...|CEABADCEDEBAECBAD...|CCBDBECEAECBDDECA...|CABACCAEEAABEDCCC...|        0|EACDDEBEACCCDABCE...|DEABEEDAEBAAECBEC...|DCBDEEDCAAEAAACAB...|DBAAACEBEDAECCBEC...|                1|          140|          180|          100|          140|           80|            640|   G|   F|   F|   F|   2|   B|   A|   B|   C|   B|   A|   B|   A|   B|   A|   B|   A|   A|   B|   A|   A|   C|   B|   B|   B|\n",
      "|210057551883|  2022|              8|      F|              1|          2|               1|              1|              5|        1|     NULL|           0|            NULL|            NULL|     NULL|     NULL|                  NULL|              NULL|           NULL|           3137007|            Ladainha|         31|         MG|             1|             1|             1|             1|       1088|       1058|       1067|       1077|     481.4|     603.6|       589|       695|DDCDACAEDAEDDBBDA...|DBDAAADEDEBBCDEAD...|ACDEACEBBDBEBEAAA...|CEBBBECAACBBBEAAD...|        1|DDCBBCCDDAADBAABE...|CEDAAADBAECBCDDAD...|CDBEDACDEACAABDBD...|CCCCBXCBABECBEABD...|                1|          140|          200|          160|          160|          200|            860|   B|   F|   A|   D|   6|   B|   A|   B|   E|   B|   B|   B|   A|   B|   A|   A|   A|   A|   B|   A|   A|   D|   A|   A|   B|\n",
      "|210054722657|  2022|              2|      F|              1|          1|               1|              3|              0|        1|     NULL|           1|            NULL|            NULL|     NULL|     NULL|                  NULL|              NULL|           NULL|           3302403|               Maca�|         33|         RJ|             0|             0|             0|             0|       NULL|       NULL|       NULL|       NULL|      NULL|      NULL|      NULL|      NULL|                NULL|                NULL|                NULL|                NULL|        0|                NULL|                NULL|                NULL|                NULL|             NULL|         NULL|         NULL|         NULL|         NULL|         NULL|           NULL|   D|   B|   F|   D|   5|   D|   D|   C|   D|   B|   B|   B|   A|   B|   A|   B|   A|   A|   C|   B|   B|   E|   A|   A|   B|\n",
      "+------------+------+---------------+-------+---------------+-----------+----------------+---------------+---------------+---------+---------+------------+----------------+----------------+---------+---------+----------------------+------------------+---------------+------------------+--------------------+-----------+-----------+--------------+--------------+--------------+--------------+-----------+-----------+-----------+-----------+----------+----------+----------+----------+--------------------+--------------------+--------------------+--------------------+---------+--------------------+--------------------+--------------------+--------------------+-----------------+-------------+-------------+-------------+-------------+-------------+---------------+----+----+----+----+----+----+----+----+----+----+----+----+----+----+----+----+----+----+----+----+----+----+----+----+----+\n",
      "only showing top 20 rows\n",
      "\n"
     ]
    }
   ],
   "source": [
    "df_spark = spark.read.options(header=\"true\", delimiter=\";\").csv('MICRODADOS_ENEM_2022.csv')"
   ]
  },
  {
   "cell_type": "code",
   "execution_count": 14,
   "metadata": {},
   "outputs": [
    {
     "name": "stdout",
     "output_type": "stream",
     "text": [
      "root\n",
      " |-- NU_INSCRICAO: string (nullable = true)\n",
      " |-- NU_ANO: string (nullable = true)\n",
      " |-- TP_FAIXA_ETARIA: string (nullable = true)\n",
      " |-- TP_SEXO: string (nullable = true)\n",
      " |-- TP_ESTADO_CIVIL: string (nullable = true)\n",
      " |-- TP_COR_RACA: string (nullable = true)\n",
      " |-- TP_NACIONALIDADE: string (nullable = true)\n",
      " |-- TP_ST_CONCLUSAO: string (nullable = true)\n",
      " |-- TP_ANO_CONCLUIU: string (nullable = true)\n",
      " |-- TP_ESCOLA: string (nullable = true)\n",
      " |-- TP_ENSINO: string (nullable = true)\n",
      " |-- IN_TREINEIRO: string (nullable = true)\n",
      " |-- CO_MUNICIPIO_ESC: string (nullable = true)\n",
      " |-- NO_MUNICIPIO_ESC: string (nullable = true)\n",
      " |-- CO_UF_ESC: string (nullable = true)\n",
      " |-- SG_UF_ESC: string (nullable = true)\n",
      " |-- TP_DEPENDENCIA_ADM_ESC: string (nullable = true)\n",
      " |-- TP_LOCALIZACAO_ESC: string (nullable = true)\n",
      " |-- TP_SIT_FUNC_ESC: string (nullable = true)\n",
      " |-- CO_MUNICIPIO_PROVA: string (nullable = true)\n",
      " |-- NO_MUNICIPIO_PROVA: string (nullable = true)\n",
      " |-- CO_UF_PROVA: string (nullable = true)\n",
      " |-- SG_UF_PROVA: string (nullable = true)\n",
      " |-- TP_PRESENCA_CN: string (nullable = true)\n",
      " |-- TP_PRESENCA_CH: string (nullable = true)\n",
      " |-- TP_PRESENCA_LC: string (nullable = true)\n",
      " |-- TP_PRESENCA_MT: string (nullable = true)\n",
      " |-- CO_PROVA_CN: string (nullable = true)\n",
      " |-- CO_PROVA_CH: string (nullable = true)\n",
      " |-- CO_PROVA_LC: string (nullable = true)\n",
      " |-- CO_PROVA_MT: string (nullable = true)\n",
      " |-- NU_NOTA_CN: string (nullable = true)\n",
      " |-- NU_NOTA_CH: string (nullable = true)\n",
      " |-- NU_NOTA_LC: string (nullable = true)\n",
      " |-- NU_NOTA_MT: string (nullable = true)\n",
      " |-- TX_RESPOSTAS_CN: string (nullable = true)\n",
      " |-- TX_RESPOSTAS_CH: string (nullable = true)\n",
      " |-- TX_RESPOSTAS_LC: string (nullable = true)\n",
      " |-- TX_RESPOSTAS_MT: string (nullable = true)\n",
      " |-- TP_LINGUA: string (nullable = true)\n",
      " |-- TX_GABARITO_CN: string (nullable = true)\n",
      " |-- TX_GABARITO_CH: string (nullable = true)\n",
      " |-- TX_GABARITO_LC: string (nullable = true)\n",
      " |-- TX_GABARITO_MT: string (nullable = true)\n",
      " |-- TP_STATUS_REDACAO: string (nullable = true)\n",
      " |-- NU_NOTA_COMP1: string (nullable = true)\n",
      " |-- NU_NOTA_COMP2: string (nullable = true)\n",
      " |-- NU_NOTA_COMP3: string (nullable = true)\n",
      " |-- NU_NOTA_COMP4: string (nullable = true)\n",
      " |-- NU_NOTA_COMP5: string (nullable = true)\n",
      " |-- NU_NOTA_REDACAO: string (nullable = true)\n",
      " |-- Q001: string (nullable = true)\n",
      " |-- Q002: string (nullable = true)\n",
      " |-- Q003: string (nullable = true)\n",
      " |-- Q004: string (nullable = true)\n",
      " |-- Q005: string (nullable = true)\n",
      " |-- Q006: string (nullable = true)\n",
      " |-- Q007: string (nullable = true)\n",
      " |-- Q008: string (nullable = true)\n",
      " |-- Q009: string (nullable = true)\n",
      " |-- Q010: string (nullable = true)\n",
      " |-- Q011: string (nullable = true)\n",
      " |-- Q012: string (nullable = true)\n",
      " |-- Q013: string (nullable = true)\n",
      " |-- Q014: string (nullable = true)\n",
      " |-- Q015: string (nullable = true)\n",
      " |-- Q016: string (nullable = true)\n",
      " |-- Q017: string (nullable = true)\n",
      " |-- Q018: string (nullable = true)\n",
      " |-- Q019: string (nullable = true)\n",
      " |-- Q020: string (nullable = true)\n",
      " |-- Q021: string (nullable = true)\n",
      " |-- Q022: string (nullable = true)\n",
      " |-- Q023: string (nullable = true)\n",
      " |-- Q024: string (nullable = true)\n",
      " |-- Q025: string (nullable = true)\n",
      "\n",
      "+-------+--------------------+-------+-----------------+-------+------------------+------------------+-------------------+------------------+-----------------+------------------+-------------------+------------------+------------------+----------------+------------------+---------+----------------------+-------------------+-------------------+------------------+--------------------+------------------+-----------+-------------------+------------------+------------------+-------------------+------------------+------------------+------------------+------------------+-----------------+-----------------+-----------------+-----------------+--------------------+--------------------+--------------------+--------------------+------------------+--------------------+--------------------+--------------------+--------------------+------------------+------------------+------------------+------------------+------------------+------------------+-----------------+-------+-------+-------+-------+------------------+-------+-------+-------+-------+-------+-------+-------+-------+-------+-------+-------+-------+-------+-------+-------+-------+-------+-------+-------+-------+\n",
      "|summary|        NU_INSCRICAO| NU_ANO|  TP_FAIXA_ETARIA|TP_SEXO|   TP_ESTADO_CIVIL|       TP_COR_RACA|   TP_NACIONALIDADE|   TP_ST_CONCLUSAO|  TP_ANO_CONCLUIU|         TP_ESCOLA|          TP_ENSINO|      IN_TREINEIRO|  CO_MUNICIPIO_ESC|NO_MUNICIPIO_ESC|         CO_UF_ESC|SG_UF_ESC|TP_DEPENDENCIA_ADM_ESC| TP_LOCALIZACAO_ESC|    TP_SIT_FUNC_ESC|CO_MUNICIPIO_PROVA|  NO_MUNICIPIO_PROVA|       CO_UF_PROVA|SG_UF_PROVA|     TP_PRESENCA_CN|    TP_PRESENCA_CH|    TP_PRESENCA_LC|     TP_PRESENCA_MT|       CO_PROVA_CN|       CO_PROVA_CH|       CO_PROVA_LC|       CO_PROVA_MT|       NU_NOTA_CN|       NU_NOTA_CH|       NU_NOTA_LC|       NU_NOTA_MT|     TX_RESPOSTAS_CN|     TX_RESPOSTAS_CH|     TX_RESPOSTAS_LC|     TX_RESPOSTAS_MT|         TP_LINGUA|      TX_GABARITO_CN|      TX_GABARITO_CH|      TX_GABARITO_LC|      TX_GABARITO_MT| TP_STATUS_REDACAO|     NU_NOTA_COMP1|     NU_NOTA_COMP2|     NU_NOTA_COMP3|     NU_NOTA_COMP4|     NU_NOTA_COMP5|  NU_NOTA_REDACAO|   Q001|   Q002|   Q003|   Q004|              Q005|   Q006|   Q007|   Q008|   Q009|   Q010|   Q011|   Q012|   Q013|   Q014|   Q015|   Q016|   Q017|   Q018|   Q019|   Q020|   Q021|   Q022|   Q023|   Q024|   Q025|\n",
      "+-------+--------------------+-------+-----------------+-------+------------------+------------------+-------------------+------------------+-----------------+------------------+-------------------+------------------+------------------+----------------+------------------+---------+----------------------+-------------------+-------------------+------------------+--------------------+------------------+-----------+-------------------+------------------+------------------+-------------------+------------------+------------------+------------------+------------------+-----------------+-----------------+-----------------+-----------------+--------------------+--------------------+--------------------+--------------------+------------------+--------------------+--------------------+--------------------+--------------------+------------------+------------------+------------------+------------------+------------------+------------------+-----------------+-------+-------+-------+-------+------------------+-------+-------+-------+-------+-------+-------+-------+-------+-------+-------+-------+-------+-------+-------+-------+-------+-------+-------+-------+-------+\n",
      "|  count|             3476105|3476105|          3476105|3476105|           3476105|           3476105|            3476105|           3476105|          3476105|           3476105|            1262744|           3476105|            951944|          951944|            951944|   951944|                951944|             951944|             951944|           3476105|             3476105|           3476105|    3476105|            3476105|           3476105|           3476105|            3476105|           2355395|           2493442|           2493442|           2355395|          2355395|          2493442|          2493442|          2355395|             2355395|             2493442|             2493442|             2355395|           3476105|             2355395|             2493442|             2493442|             2355395|           2493442|           2493442|           2493442|           2493442|           2493442|           2493442|          2493442|3476105|3476105|3476105|3476105|           3476105|3476105|3476105|3476105|3476105|3476105|3476105|3476105|3476105|3476105|3476105|3476105|3476105|3476105|3476105|3476105|3476105|3476105|3476105|3476105|3476105|\n",
      "|   mean|2.100562531684548E11| 2022.0|4.863502972436103|   NULL|1.0427714352702235| 2.035284031984074| 1.0286406768495198|1.6848768952606437|2.178502375503617| 1.440080204711883|  1.005992505210874|0.1475018735049718|  3201401.07066277|            NULL| 31.86596060272453|     NULL|    2.4353627944500937| 1.0352279125662853| 1.0153496424159405|3106623.0156171923|                NULL| 30.92124202232096|       NULL| 0.6785033823776899|0.7200029918543888|0.7200029918543888| 0.6785033823776899|1087.8594732518325|1058.0841724010425|1068.0102228164922|1077.9381738519442|495.9305203585806|526.9531490606164|517.4389348940126|542.5032163182816|                NULL|                NULL|                NULL|                NULL|0.4534031624476246|                NULL|                NULL|                NULL|                NULL|1.1887122299215303|119.39227782318578|140.96090464506494|114.86859529918883|129.43843891295646|113.81948326850996|618.4796999489059|   NULL|   NULL|   NULL|   NULL|3.7453215596191716|   NULL|   NULL|   NULL|   NULL|   NULL|   NULL|   NULL|   NULL|   NULL|   NULL|   NULL|   NULL|   NULL|   NULL|   NULL|   NULL|   NULL|   NULL|   NULL|   NULL|\n",
      "| stddev|  1023449.1340259468|    0.0|3.690559857984763|   NULL|0.3873106752141653|1.0197589388493944|0.21029186273064154|0.7297286283165121|4.064238055231285|0.6070447053154795|0.07717901145621738|0.3546055653703637|1024569.0374850591|            NULL|10.220105438342157|     NULL|    0.9096829585087394|0.18435547847888142|0.19764351666137991|1010731.6068959936|                NULL|10.078635402856294|       NULL|0.46802130600322495|0.4519873471777242|0.4519873471777242|0.46802130600322495|  11.6627507366508| 13.67854558049784|13.008129230047253|12.315247543231749|72.00975185663327|81.48446312586354|77.55491455125193|116.0225136830013|                NULL|                NULL|                NULL|                NULL|  0.49782407135964|                NULL|                NULL|                NULL|                NULL|0.8793774814226231| 37.00625576316769| 53.53708413353791|41.026586394967914|42.680947413742565| 59.82159653816264|212.2124793479975|   NULL|   NULL|   NULL|   NULL|  1.37684825296437|   NULL|   NULL|   NULL|   NULL|   NULL|   NULL|   NULL|   NULL|   NULL|   NULL|   NULL|   NULL|   NULL|   NULL|   NULL|   NULL|   NULL|   NULL|   NULL|   NULL|\n",
      "|    min|        210054478229|   2022|                1|      F|                 0|                 0|                  0|                 1|                0|                 1|                  1|                 0|           1100015| Abadia de Goi�s|                11|       AC|                     1|                  1|                  1|           1100015|          Abaetetuba|                11|         AC|                  0|                 0|                 0|                  0|              1085|              1055|              1065|              1075|                0|                0|                0|                0|*****************...|*****************...|*****************...|*****************...|                 0|AAACEDDEAEBBDBEDE...|ABBDCCABBEDABCECA...|AAACBBCACCAABCADD...|ADCBDACDECBDCCBDE...|                 1|                 0|                 0|                 0|                 0|                 0|                0|      A|      A|      A|      A|                 1|      A|      A|      A|      A|      A|      A|      A|      A|      A|      A|      A|      A|      A|      A|      A|      A|      A|      A|      A|      A|\n",
      "|    max|        210058032230|   2022|                9|      M|                 4|                 5|                  4|                 4|                9|                 3|                  2|                 1|           5300108|           �urea|                53|       TO|                     4|                  2|                  4|           5300108|�guas Lindas de G...|                53|         TO|                  2|                 2|                 2|                  2|              1190|              1178|              1182|              1186|            875.3|            839.2|              801|            985.7|EEEEEEEEEEEEEEEEE...|EEEEEEEEEEEEEEEEE...|EEEEEEEEEEEEEEEEE...|EEEEEEEEEEEEEEEEE...|                 1|EACDDEBEACCCDABCE...|ECBABCDDAAECBCBEC...|DECDBDCEAADDBCABE...|ECDABEBDCEECDBDCC...|                 9|                80|                80|                80|                80|                80|              980|      H|      H|      F|      F|                 9|      Q|      D|      E|      E|      E|      E|      E|      E|      E|      E|      E|      E|      B|      E|      B|      B|      E|      B|      E|      B|\n",
      "+-------+--------------------+-------+-----------------+-------+------------------+------------------+-------------------+------------------+-----------------+------------------+-------------------+------------------+------------------+----------------+------------------+---------+----------------------+-------------------+-------------------+------------------+--------------------+------------------+-----------+-------------------+------------------+------------------+-------------------+------------------+------------------+------------------+------------------+-----------------+-----------------+-----------------+-----------------+--------------------+--------------------+--------------------+--------------------+------------------+--------------------+--------------------+--------------------+--------------------+------------------+------------------+------------------+------------------+------------------+------------------+-----------------+-------+-------+-------+-------+------------------+-------+-------+-------+-------+-------+-------+-------+-------+-------+-------+-------+-------+-------+-------+-------+-------+-------+-------+-------+-------+\n",
      "\n"
     ]
    }
   ],
   "source": [
    "df_spark.printSchema()\n",
    "\n",
    "# Estatísticas descritivas\n",
    "\n"
   ]
  },
  {
   "cell_type": "code",
   "execution_count": 16,
   "metadata": {},
   "outputs": [
    {
     "name": "stdout",
     "output_type": "stream",
     "text": [
      "+------------+------+---------------+-------+---------------+-----------+----------------+---------------+---------------+---------+---------+------------+----------------+----------------+---------+---------+----------------------+------------------+---------------+------------------+------------------+-----------+-----------+--------------+--------------+--------------+--------------+-----------+-----------+-----------+-----------+----------+----------+----------+----------+---------------+---------------+---------------+---------------+---------+--------------+--------------+--------------+--------------+-----------------+-------------+-------------+-------------+-------------+-------------+---------------+----+----+----+----+----+----+----+----+----+----+----+----+----+----+----+----+----+----+----+----+----+----+----+----+----+\n",
      "|NU_INSCRICAO|NU_ANO|TP_FAIXA_ETARIA|TP_SEXO|TP_ESTADO_CIVIL|TP_COR_RACA|TP_NACIONALIDADE|TP_ST_CONCLUSAO|TP_ANO_CONCLUIU|TP_ESCOLA|TP_ENSINO|IN_TREINEIRO|CO_MUNICIPIO_ESC|NO_MUNICIPIO_ESC|CO_UF_ESC|SG_UF_ESC|TP_DEPENDENCIA_ADM_ESC|TP_LOCALIZACAO_ESC|TP_SIT_FUNC_ESC|CO_MUNICIPIO_PROVA|NO_MUNICIPIO_PROVA|CO_UF_PROVA|SG_UF_PROVA|TP_PRESENCA_CN|TP_PRESENCA_CH|TP_PRESENCA_LC|TP_PRESENCA_MT|CO_PROVA_CN|CO_PROVA_CH|CO_PROVA_LC|CO_PROVA_MT|NU_NOTA_CN|NU_NOTA_CH|NU_NOTA_LC|NU_NOTA_MT|TX_RESPOSTAS_CN|TX_RESPOSTAS_CH|TX_RESPOSTAS_LC|TX_RESPOSTAS_MT|TP_LINGUA|TX_GABARITO_CN|TX_GABARITO_CH|TX_GABARITO_LC|TX_GABARITO_MT|TP_STATUS_REDACAO|NU_NOTA_COMP1|NU_NOTA_COMP2|NU_NOTA_COMP3|NU_NOTA_COMP4|NU_NOTA_COMP5|NU_NOTA_REDACAO|Q001|Q002|Q003|Q004|Q005|Q006|Q007|Q008|Q009|Q010|Q011|Q012|Q013|Q014|Q015|Q016|Q017|Q018|Q019|Q020|Q021|Q022|Q023|Q024|Q025|\n",
      "+------------+------+---------------+-------+---------------+-----------+----------------+---------------+---------------+---------+---------+------------+----------------+----------------+---------+---------+----------------------+------------------+---------------+------------------+------------------+-----------+-----------+--------------+--------------+--------------+--------------+-----------+-----------+-----------+-----------+----------+----------+----------+----------+---------------+---------------+---------------+---------------+---------+--------------+--------------+--------------+--------------+-----------------+-------------+-------------+-------------+-------------+-------------+---------------+----+----+----+----+----+----+----+----+----+----+----+----+----+----+----+----+----+----+----+----+----+----+----+----+----+\n",
      "|           0|     0|              0|      0|              0|          0|               0|              0|              0|        0|  2213361|           0|         2524161|         2524161|  2524161|  2524161|               2524161|           2524161|        2524161|                 0|                 0|          0|          0|             0|             0|             0|             0|    1120710|     982663|     982663|    1120710|   1120710|    982663|    982663|   1120710|        1120710|         982663|         982663|        1120710|        0|       1120710|        982663|        982663|       1120710|           982663|       982663|       982663|       982663|       982663|       982663|         982663|   0|   0|   0|   0|   0|   0|   0|   0|   0|   0|   0|   0|   0|   0|   0|   0|   0|   0|   0|   0|   0|   0|   0|   0|   0|\n",
      "+------------+------+---------------+-------+---------------+-----------+----------------+---------------+---------------+---------+---------+------------+----------------+----------------+---------+---------+----------------------+------------------+---------------+------------------+------------------+-----------+-----------+--------------+--------------+--------------+--------------+-----------+-----------+-----------+-----------+----------+----------+----------+----------+---------------+---------------+---------------+---------------+---------+--------------+--------------+--------------+--------------+-----------------+-------------+-------------+-------------+-------------+-------------+---------------+----+----+----+----+----+----+----+----+----+----+----+----+----+----+----+----+----+----+----+----+----+----+----+----+----+\n",
      "\n"
     ]
    }
   ],
   "source": [
    "from pyspark.sql.functions import col, count, when\n",
    "\n",
    "df_spark.select([count(when(col(c).isNull(), c)).alias(c) for c in df_spark.columns]).show()\n"
   ]
  },
  {
   "cell_type": "code",
   "execution_count": 17,
   "metadata": {},
   "outputs": [],
   "source": [
    "pandas_df = df_spark.limit(10000).toPandas()  # Limitar para evitar sobrecarga de memória\n"
   ]
  },
  {
   "cell_type": "code",
   "execution_count": 18,
   "metadata": {},
   "outputs": [],
   "source": []
  },
  {
   "cell_type": "code",
   "execution_count": 21,
   "metadata": {},
   "outputs": [
    {
     "name": "stdout",
     "output_type": "stream",
     "text": [
      "2356972\n",
      "2356972\n",
      "2346897\n",
      "2346897\n",
      "2346897\n"
     ]
    }
   ],
   "source": [
    "# Quantida de linhas\n",
    "print(df_spark.count())\n",
    "\n",
    "# Deletando todas as linhas que contem valor 0 na coluna TP_PRESENCA_CN\n",
    "df_spark = df_spark.filter(df_spark.TP_PRESENCA_CN != 0)\n",
    "\n",
    "\n",
    "print(df_spark.count())\n",
    "\n",
    "df_spark = df_spark.filter(df_spark.TP_PRESENCA_CH != 0)\n",
    "\n",
    "\n",
    "print(df_spark.count())\n",
    "\n",
    "df_spark = df_spark.filter(df_spark.TP_PRESENCA_LC != 0)\n",
    "\n",
    "\n",
    "print(df_spark.count())\n",
    "\n",
    "df_spark = df_spark.filter(df_spark.TP_PRESENCA_MT != 0)\n",
    "\n",
    "\n",
    "print(df_spark.count())\n",
    " "
   ]
  }
 ],
 "metadata": {
  "kernelspec": {
   "display_name": "Python 3",
   "language": "python",
   "name": "python3"
  },
  "language_info": {
   "codemirror_mode": {
    "name": "ipython",
    "version": 3
   },
   "file_extension": ".py",
   "mimetype": "text/x-python",
   "name": "python",
   "nbconvert_exporter": "python",
   "pygments_lexer": "ipython3",
   "version": "3.10.11"
  }
 },
 "nbformat": 4,
 "nbformat_minor": 2
}
